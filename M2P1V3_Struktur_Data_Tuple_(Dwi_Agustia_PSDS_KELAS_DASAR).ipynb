{
  "nbformat": 4,
  "nbformat_minor": 0,
  "metadata": {
    "colab": {
      "name": "M2P1V3_Struktur_Data_Tuple_(Dwi Agustia_PSDS KELAS DASAR).ipynb",
      "provenance": [],
      "collapsed_sections": [],
      "toc_visible": true,
      "authorship_tag": "ABX9TyPTTY1KVPojMTw5aLDFh6Rd",
      "include_colab_link": true
    },
    "kernelspec": {
      "name": "python3",
      "display_name": "Python 3"
    },
    "language_info": {
      "name": "python"
    }
  },
  "cells": [
    {
      "cell_type": "markdown",
      "metadata": {
        "id": "view-in-github",
        "colab_type": "text"
      },
      "source": [
        "<a href=\"https://colab.research.google.com/github/agustiadwi1410/PSDS-3.0/blob/main/M2P1V3_Struktur_Data_Tuple_(Dwi_Agustia_PSDS_KELAS_DASAR).ipynb\" target=\"_parent\"><img src=\"https://colab.research.google.com/assets/colab-badge.svg\" alt=\"Open In Colab\"/></a>"
      ]
    },
    {
      "cell_type": "markdown",
      "metadata": {
        "id": "s-YG2XEIDU7d"
      },
      "source": [
        "**DWI AGUSTIA**\n",
        "\n",
        "**NIM : 2000015016**\n",
        "\n",
        "**PSDS KELAS DASAR**"
      ]
    },
    {
      "cell_type": "markdown",
      "metadata": {
        "id": "6J_4yONlARyl"
      },
      "source": [
        "#Struktur Data Tuple"
      ]
    },
    {
      "cell_type": "markdown",
      "metadata": {
        "id": "wZ-4c9X_AVeq"
      },
      "source": [
        "Tuple adalah jenis dari struktur data yang tidak dapat diubah elemennya. Umumnya tuple digunakan untuk data yang bersifat sekali tulis dan dapat dieksekusi lebih cepat. Tuple didefinisikan dengan kurung dan elemen yang dipisahkan dengan koma. "
      ]
    },
    {
      "cell_type": "code",
      "metadata": {
        "colab": {
          "base_uri": "https://localhost:8080/"
        },
        "id": "iYSheC9OA5IU",
        "outputId": "6e60b2a1-87ed-4ed8-f475-c8b9e0ae478f"
      },
      "source": [
        "#Contoh Tuple\n",
        "T1 = (1, \"dua\", True, 1+2j)\n",
        "print(\"Ini adalah Tuple\", T1)"
      ],
      "execution_count": null,
      "outputs": [
        {
          "output_type": "stream",
          "name": "stdout",
          "text": [
            "Ini adalah Tuple (1, 'dua', True, (1+2j))\n"
          ]
        }
      ]
    },
    {
      "cell_type": "code",
      "metadata": {
        "colab": {
          "base_uri": "https://localhost:8080/"
        },
        "id": "kX5sOeO75bG6",
        "outputId": "f0e49afc-416a-412d-9810-960b530eeb2e"
      },
      "source": [
        "#Menampilkan tipe struktur data\n",
        "type(T1)"
      ],
      "execution_count": null,
      "outputs": [
        {
          "output_type": "execute_result",
          "data": {
            "text/plain": [
              "tuple"
            ]
          },
          "metadata": {},
          "execution_count": 2
        }
      ]
    },
    {
      "cell_type": "markdown",
      "metadata": {
        "id": "mi5p4ngUBXKY"
      },
      "source": [
        "##Latihan "
      ]
    },
    {
      "cell_type": "code",
      "metadata": {
        "colab": {
          "base_uri": "https://localhost:8080/"
        },
        "id": "YIZ5--6jBdA6",
        "outputId": "80db2ec8-bb3c-4ddf-f17f-cd257eb9f73e"
      },
      "source": [
        "#Buatlah tuplemu Sendiri\n",
        "\n",
        "Tuple1 = (11, \"duabelas\", True, 11+12j)\n",
        "print(\"Ini adalah Tuple\", Tuple1)\n",
        "\n",
        "#Menampilkan tipe struktur data\n",
        "type(Tuple1)"
      ],
      "execution_count": null,
      "outputs": [
        {
          "output_type": "stream",
          "name": "stdout",
          "text": [
            "Ini adalah Tuple (11, 'duabelas', True, (11+12j))\n"
          ]
        },
        {
          "output_type": "execute_result",
          "data": {
            "text/plain": [
              "tuple"
            ]
          },
          "metadata": {},
          "execution_count": 10
        }
      ]
    },
    {
      "cell_type": "markdown",
      "metadata": {
        "id": "LF_vmQPjBm6S"
      },
      "source": [
        "#Sifat Sifat Tuple"
      ]
    },
    {
      "cell_type": "code",
      "metadata": {
        "colab": {
          "base_uri": "https://localhost:8080/"
        },
        "id": "wexf4pihBwpO",
        "outputId": "ba4ab517-6fd3-4d19-e686-7733a4338432"
      },
      "source": [
        "#Terurut / Ordered\n",
        "T1[0:3]"
      ],
      "execution_count": null,
      "outputs": [
        {
          "output_type": "execute_result",
          "data": {
            "text/plain": [
              "(1, 'dua', True)"
            ]
          },
          "metadata": {},
          "execution_count": 3
        }
      ]
    },
    {
      "cell_type": "code",
      "metadata": {
        "colab": {
          "base_uri": "https://localhost:8080/",
          "height": 183
        },
        "id": "wD2Nm_3LB6px",
        "outputId": "cecc21ab-a6f9-453f-bdd3-2a88520bdd67"
      },
      "source": [
        "#Tidak bisa diganti / Immutable\n",
        "T1[2] = \"manusia\""
      ],
      "execution_count": null,
      "outputs": [
        {
          "output_type": "error",
          "ename": "TypeError",
          "evalue": "ignored",
          "traceback": [
            "\u001b[0;31m---------------------------------------------------------------------------\u001b[0m",
            "\u001b[0;31mTypeError\u001b[0m                                 Traceback (most recent call last)",
            "\u001b[0;32m<ipython-input-4-fa4fab5e190e>\u001b[0m in \u001b[0;36m<module>\u001b[0;34m()\u001b[0m\n\u001b[1;32m      1\u001b[0m \u001b[0;31m#Tidak bisa diganti / Immutable\u001b[0m\u001b[0;34m\u001b[0m\u001b[0;34m\u001b[0m\u001b[0;34m\u001b[0m\u001b[0m\n\u001b[0;32m----> 2\u001b[0;31m \u001b[0mT1\u001b[0m\u001b[0;34m[\u001b[0m\u001b[0;36m2\u001b[0m\u001b[0;34m]\u001b[0m \u001b[0;34m=\u001b[0m \u001b[0;34m\"manusia\"\u001b[0m\u001b[0;34m\u001b[0m\u001b[0;34m\u001b[0m\u001b[0m\n\u001b[0m",
            "\u001b[0;31mTypeError\u001b[0m: 'tuple' object does not support item assignment"
          ]
        }
      ]
    },
    {
      "cell_type": "code",
      "metadata": {
        "colab": {
          "base_uri": "https://localhost:8080/"
        },
        "id": "3J95SPd8CF7K",
        "outputId": "541151e1-c617-45c9-9757-8fb83bcae620"
      },
      "source": [
        "#Dapat Diindeks / Slicing\n",
        "print(\"elemen kedua dari tuple T1 adalah:\", T1[1])"
      ],
      "execution_count": null,
      "outputs": [
        {
          "output_type": "stream",
          "name": "stdout",
          "text": [
            "elemen kedua dari tuple T1 adalah: dua\n"
          ]
        }
      ]
    },
    {
      "cell_type": "code",
      "metadata": {
        "colab": {
          "base_uri": "https://localhost:8080/"
        },
        "id": "G5V0JMtgCgHP",
        "outputId": "b80f3b27-515f-477b-8eed-edffcc177ff1"
      },
      "source": [
        "#Dapat Diijinkan Duplikasi\n",
        "T2 = (3, 2.4, True, 2.4)\n",
        "T2"
      ],
      "execution_count": null,
      "outputs": [
        {
          "output_type": "execute_result",
          "data": {
            "text/plain": [
              "(3, 2.4, True, 2.4)"
            ]
          },
          "metadata": {},
          "execution_count": 6
        }
      ]
    },
    {
      "cell_type": "markdown",
      "metadata": {
        "id": "TTtS_2HGCwwo"
      },
      "source": [
        "##Menggabungkan Tuple"
      ]
    },
    {
      "cell_type": "code",
      "metadata": {
        "colab": {
          "base_uri": "https://localhost:8080/"
        },
        "id": "vjKbryAgC2F2",
        "outputId": "0b3b4093-7b15-48ae-ba11-887f2f90ec04"
      },
      "source": [
        "#Menggabungkan Tuple\n",
        "T3 = T1 + T2\n",
        "T3"
      ],
      "execution_count": null,
      "outputs": [
        {
          "output_type": "execute_result",
          "data": {
            "text/plain": [
              "(1, 'dua', True, (1+2j), 3, 2.4, True, 2.4)"
            ]
          },
          "metadata": {},
          "execution_count": 7
        }
      ]
    },
    {
      "cell_type": "markdown",
      "metadata": {
        "id": "3qO8cvvdDRBA"
      },
      "source": [
        "##Latihan 2"
      ]
    },
    {
      "cell_type": "code",
      "metadata": {
        "colab": {
          "base_uri": "https://localhost:8080/"
        },
        "id": "SLGza6QRDAys",
        "outputId": "92d1fd51-78cc-4232-c2dc-6b8d2a30ec73"
      },
      "source": [
        "#Buatlah tuple kedua lalu gabungkan 2 tuple yang telah kamu buat \n",
        "\n",
        "Tuple2 = (3, 7.7, True, 7.7)\n",
        "Tuple2"
      ],
      "execution_count": null,
      "outputs": [
        {
          "output_type": "execute_result",
          "data": {
            "text/plain": [
              "(3, 7.7, True, 7.7)"
            ]
          },
          "metadata": {},
          "execution_count": 15
        }
      ]
    },
    {
      "cell_type": "code",
      "metadata": {
        "colab": {
          "base_uri": "https://localhost:8080/"
        },
        "id": "sAag19UIFWLc",
        "outputId": "5b1d2e62-28de-470c-fc3e-85f38236d4ca"
      },
      "source": [
        "#Menggabungkan antara Tuple1 dan Tuple2\n",
        "Tuple3 = Tuple1 + Tuple2\n",
        "Tuple3"
      ],
      "execution_count": null,
      "outputs": [
        {
          "output_type": "execute_result",
          "data": {
            "text/plain": [
              "(11, 'duabelas', True, (11+12j), 3, 7.7, True, 7.7)"
            ]
          },
          "metadata": {},
          "execution_count": 16
        }
      ]
    }
  ]
}