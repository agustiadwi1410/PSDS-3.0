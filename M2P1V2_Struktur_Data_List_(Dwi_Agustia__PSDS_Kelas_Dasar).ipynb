{
  "nbformat": 4,
  "nbformat_minor": 0,
  "metadata": {
    "colab": {
      "name": "M2P1V2_Struktur_Data_List_(Dwi Agustia_ PSDS Kelas Dasar).ipynb",
      "provenance": [],
      "collapsed_sections": [],
      "toc_visible": true,
      "authorship_tag": "ABX9TyNm5giCnz/vnHJ1VZYqvfuR",
      "include_colab_link": true
    },
    "kernelspec": {
      "name": "python3",
      "display_name": "Python 3"
    },
    "language_info": {
      "name": "python"
    }
  },
  "cells": [
    {
      "cell_type": "markdown",
      "metadata": {
        "id": "view-in-github",
        "colab_type": "text"
      },
      "source": [
        "<a href=\"https://colab.research.google.com/github/agustiadwi1410/PSDS-3.0/blob/main/M2P1V2_Struktur_Data_List_(Dwi_Agustia__PSDS_Kelas_Dasar).ipynb\" target=\"_parent\"><img src=\"https://colab.research.google.com/assets/colab-badge.svg\" alt=\"Open In Colab\"/></a>"
      ]
    },
    {
      "cell_type": "markdown",
      "metadata": {
        "id": "IYZ_v1gH7Oso"
      },
      "source": [
        "**DWI AGUSTIA**\n",
        "\n",
        "**NIM : 2000015016**\n",
        "\n",
        "**PSDS KELAS DASAR**"
      ]
    },
    {
      "cell_type": "markdown",
      "metadata": {
        "id": "Ts70rs2y7eIU"
      },
      "source": [
        "#List"
      ]
    },
    {
      "cell_type": "markdown",
      "metadata": {
        "id": "zINfoECx7pVV"
      },
      "source": [
        "List adalah jenis kumpulan data terurut (ordered sequence) dan merupakan salah satu dari variabel yang sering digunakan di phyton. Serupa namun tak sama dengan array pada bahasa pemrograman. Bedanya, elemen List pada Phyton tidak harus memiliki tipe data yang sama. Mendeklarasikan List cukup mudah dengan kurung siku dan elemen yang dipisahkan dengan koma. Setiap data didalamnya dapat diakses dengan indeks  yang dimulai dari 0."
      ]
    },
    {
      "cell_type": "code",
      "metadata": {
        "colab": {
          "base_uri": "https://localhost:8080/"
        },
        "id": "9rxzt_8E9jQ7",
        "outputId": "d92f4f1b-454c-41a7-a1e1-093f5895fc49"
      },
      "source": [
        "#Contoh List\n",
        "L1 = [1, 4, 2, 13]\n",
        "\n",
        "print(type(L1))"
      ],
      "execution_count": null,
      "outputs": [
        {
          "output_type": "stream",
          "name": "stdout",
          "text": [
            "<class 'list'>\n"
          ]
        }
      ]
    },
    {
      "cell_type": "code",
      "metadata": {
        "colab": {
          "base_uri": "https://localhost:8080/"
        },
        "id": "jaiLExg39yxc",
        "outputId": "d92dd5f8-af52-4ff6-9092-7cf043c62576"
      },
      "source": [
        "L2 = [\"a\",\"Python\",3]\n",
        "L2"
      ],
      "execution_count": null,
      "outputs": [
        {
          "output_type": "execute_result",
          "data": {
            "text/plain": [
              "['a', 'Python', 3]"
            ]
          },
          "metadata": {},
          "execution_count": 9
        }
      ]
    },
    {
      "cell_type": "code",
      "metadata": {
        "colab": {
          "base_uri": "https://localhost:8080/"
        },
        "id": "FjJNYyGe-AxX",
        "outputId": "1b749192-f641-4c84-e6c1-4a4d11b639a0"
      },
      "source": [
        "print(L1)\n",
        "print(L2)"
      ],
      "execution_count": null,
      "outputs": [
        {
          "output_type": "stream",
          "name": "stdout",
          "text": [
            "[1, 4, 2, 13]\n",
            "['a', 'Python', 3]\n"
          ]
        }
      ]
    },
    {
      "cell_type": "markdown",
      "metadata": {
        "id": "OSjrc_j7-JPu"
      },
      "source": [
        "##Latihan 1"
      ]
    },
    {
      "cell_type": "code",
      "metadata": {
        "colab": {
          "base_uri": "https://localhost:8080/"
        },
        "id": "9oPLbMrQ-NMn",
        "outputId": "a3c63c83-4da9-4582-a2c0-8f25cc8d0bdc"
      },
      "source": [
        "#Buatlah List kalian sendiri\n",
        "List1 = [3, 4, 7, 7]\n",
        "\n",
        "print(type(List1))\n",
        "\n",
        "List2 = [\"d\",\"Python\",4]\n",
        "List2"
      ],
      "execution_count": null,
      "outputs": [
        {
          "output_type": "stream",
          "name": "stdout",
          "text": [
            "<class 'list'>\n"
          ]
        },
        {
          "output_type": "execute_result",
          "data": {
            "text/plain": [
              "['d', 'Python', 4]"
            ]
          },
          "metadata": {},
          "execution_count": 26
        }
      ]
    },
    {
      "cell_type": "code",
      "metadata": {
        "colab": {
          "base_uri": "https://localhost:8080/"
        },
        "id": "nkUptp3vGSla",
        "outputId": "bfa28a26-a651-47f6-8cbd-bcb36570b7c4"
      },
      "source": [
        "print(List1)\n",
        "print(List2)"
      ],
      "execution_count": null,
      "outputs": [
        {
          "output_type": "stream",
          "name": "stdout",
          "text": [
            "[3, 4, 7, 7]\n",
            "['d', 'Python', 4]\n"
          ]
        }
      ]
    },
    {
      "cell_type": "markdown",
      "metadata": {
        "id": "5plvy19O-XdE"
      },
      "source": [
        "Indeks  di Python(List, Tuple) mulai dari 0"
      ]
    },
    {
      "cell_type": "code",
      "metadata": {
        "colab": {
          "base_uri": "https://localhost:8080/"
        },
        "id": "SjoPp6W3-f8n",
        "outputId": "3cfe01c4-b92b-49f4-c2cf-f1619cef9690"
      },
      "source": [
        "#Sifat sifat List\n",
        "\n",
        "#Terurut / Ordered\n",
        "print(\"Memanggil List L1 dengan indeks ururtan:\", L1[0:3])\n",
        "\n",
        "#Bisa Diganti / Mutable\n",
        "L1[1] = 2\n",
        "print(\"List L1 setelah diganti elemennya:\", L1)\n",
        "\n",
        "L1 = [1, \"dua\", True, 2+3j]\n",
        "\n",
        "#Dapat Diindeks  / Slicing\n",
        "print(\"Slicing  List L1:\", L1[3])\n",
        "\n",
        "#Dapat Diijinkan Duplikasi \n",
        "L1 = [1, \"dua\", True, 2+3j, 2+3j]\n",
        "print(\"Duplikasi pada List L1:\", L1)"
      ],
      "execution_count": null,
      "outputs": [
        {
          "output_type": "stream",
          "name": "stdout",
          "text": [
            "Memanggil List L1 dengan indeks ururtan: [1, 4, 2]\n",
            "List L1 setelah diganti elemennya: [1, 2, 2, 13]\n",
            "Slicing  List L1: (2+3j)\n",
            "Duplikasi pada List L1: [1, 'dua', True, (2+3j), (2+3j)]\n"
          ]
        }
      ]
    },
    {
      "cell_type": "markdown",
      "metadata": {
        "id": "7LTlgxEzAEgz"
      },
      "source": [
        "##Latihan 2"
      ]
    },
    {
      "cell_type": "code",
      "metadata": {
        "colab": {
          "base_uri": "https://localhost:8080/"
        },
        "id": "Ukvvv2mTAG-h",
        "outputId": "dbebb4f6-6292-4f3f-b5b2-3a6d9f319456"
      },
      "source": [
        "#Ganti elemen yang ada pada List yang kalian buat\n",
        "\n",
        "#Terurut / Ordered\n",
        "print(\"Memanggil List List1 dengan indeks ururtan:\", List1[0:2])\n",
        "\n",
        "#Bisa Diganti / Mutable\n",
        "List1[1] = 10\n",
        "print(\"List List1 setelah diganti elemennya:\", List1)\n",
        "\n",
        "List1 = [3, \"empat\", True, 3+7j]\n",
        "\n",
        "#Dapat Diindeks  / Slicing\n",
        "print(\"Slicing  List List1:\", List1[3])\n",
        "\n",
        "#Dapat Diijinkan Duplikasi \n",
        "List1 = [3, \"empat\", True, 3+7j, 3+7j]\n",
        "print(\"Duplikasi pada List List1:\", List1)"
      ],
      "execution_count": null,
      "outputs": [
        {
          "output_type": "stream",
          "name": "stdout",
          "text": [
            "Memanggil List List1 dengan indeks ururtan: [3, 4]\n",
            "List List1 setelah diganti elemennya: [3, 10, 7, 7]\n",
            "Slicing  List List1: (3+7j)\n",
            "Duplikasi pada List List1: [3, 'empat', True, (3+7j), (3+7j)]\n"
          ]
        }
      ]
    }
  ]
}