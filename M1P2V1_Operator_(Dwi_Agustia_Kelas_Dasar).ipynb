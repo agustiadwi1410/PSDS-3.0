{
  "nbformat": 4,
  "nbformat_minor": 0,
  "metadata": {
    "colab": {
      "name": "M1P2V1_Operator_(Dwi Agustia_Kelas Dasar).ipynb",
      "provenance": [],
      "collapsed_sections": [],
      "toc_visible": true,
      "authorship_tag": "ABX9TyNT6mkiX1gT6IaRQN1XPEEp",
      "include_colab_link": true
    },
    "kernelspec": {
      "name": "python3",
      "display_name": "Python 3"
    },
    "language_info": {
      "name": "python"
    }
  },
  "cells": [
    {
      "cell_type": "markdown",
      "metadata": {
        "id": "view-in-github",
        "colab_type": "text"
      },
      "source": [
        "<a href=\"https://colab.research.google.com/github/agustiadwi1410/PSDS-3.0/blob/main/M1P2V1_Operator_(Dwi_Agustia_Kelas_Dasar).ipynb\" target=\"_parent\"><img src=\"https://colab.research.google.com/assets/colab-badge.svg\" alt=\"Open In Colab\"/></a>"
      ]
    },
    {
      "cell_type": "markdown",
      "metadata": {
        "id": "4GflJOG4OWVf"
      },
      "source": [
        "#Operator\n",
        "\n",
        "Operator  simbol simbol yang dapat digunakan untuk mengubah nilai dari satu variabel dengan melibatkan satu atau lebih variabel dan literal.\n",
        "Tipe tipe operator :\n",
        "1. Operator Aritmatika\n",
        "2. Operator Assignment\n",
        "3. Operator Pembanding\n",
        "4. Operator Logika\n",
        "5. Operator Membership\n"
      ]
    },
    {
      "cell_type": "markdown",
      "metadata": {
        "id": "L8wCHIeqScGe"
      },
      "source": [
        "## Operator Aritmatika\n",
        "\n",
        "Operator Aritmatika digunakan untuk melkaukan operasi matematika yang umum. \n",
        "\n",
        "Macam macam Operator Aritmatika, yaitu :\n",
        "\n"
      ]
    },
    {
      "cell_type": "code",
      "metadata": {
        "id": "houAo2-IhRjm"
      },
      "source": [
        "+= Penjumlahan\n",
        "-= Pengurangan\n",
        "*= Perkalian\n",
        "/ = Pembagian\n",
        "% = Modulus\n",
        "**= Perpangkatan\n",
        "//= Pembagian dengan hasil pembulatan flooring"
      ],
      "execution_count": null,
      "outputs": []
    },
    {
      "cell_type": "code",
      "metadata": {
        "colab": {
          "base_uri": "https://localhost:8080/"
        },
        "id": "tv-ef8SYNqSO",
        "outputId": "4ecc7aee-8a6e-4836-e7b1-b8d4980eb444"
      },
      "source": [
        "#Contoh Penggunaan Operator Aritmatika\n",
        "#Penjumlahan \n",
        "print('Penjumlahan')\n",
        "print(2+2)\n",
        "#Pengurangan\n",
        "print('Pengurangan')\n",
        "print('-'*20)\n",
        "print(2-3)\n",
        "#Perkalian \n",
        "print('Perkalian')\n",
        "print('-'*20)\n",
        "print(2*3)\n",
        "#Pembagian \n",
        "print('Pembagian')\n",
        "print('-'*20)\n",
        "print(2/3)\n",
        "#Modulus\n",
        "print('Modulus')\n",
        "print('-'*20)\n",
        "print(3%2)\n",
        "#Perpangkatan\n",
        "print('Perpangkatan')\n",
        "print('-'*20)\n",
        "print(2**3)\n",
        "#Pembagian dengan hasil pembulatan flooring\n",
        "print('Pembagian pembulatan flooring')\n",
        "print('-'*20)\n",
        "print(3//2)"
      ],
      "execution_count": null,
      "outputs": [
        {
          "output_type": "stream",
          "name": "stdout",
          "text": [
            "Penjumlahan\n",
            "4\n",
            "Pengurangan\n",
            "--------------------\n",
            "-1\n",
            "Perkalian\n",
            "--------------------\n",
            "6\n",
            "Pembagian\n",
            "--------------------\n",
            "0.6666666666666666\n",
            "Modulus\n",
            "--------------------\n",
            "1\n",
            "Perpangkatan\n",
            "--------------------\n",
            "8\n",
            "Pembagian pembulatan flooring\n",
            "--------------------\n",
            "1\n"
          ]
        }
      ]
    },
    {
      "cell_type": "markdown",
      "metadata": {
        "id": "KPMlnCpnUERp"
      },
      "source": [
        "### Latihan Operator 1\n"
      ]
    },
    {
      "cell_type": "code",
      "metadata": {
        "colab": {
          "base_uri": "https://localhost:8080/"
        },
        "id": "XJciCsAPXwRE",
        "outputId": "7b9ad70e-270b-4f0b-f955-d6c6b8343c73"
      },
      "source": [
        "#Buatlah Program penerapan operator Aritmatika \n",
        "#dengan nilai - nilai  yang berbeda dari contoh diatas\n",
        "\n",
        "#Penjumlahan \n",
        "print('Penjumlahan')\n",
        "print(4+5)\n",
        "#Pengurangan\n",
        "print('Pengurangan')\n",
        "print('-'*20)\n",
        "print(14-2)\n",
        "#Perkalian \n",
        "print('Perkalian')\n",
        "print('-'*20)\n",
        "print(10*10)\n",
        "#Pembagian \n",
        "print('Pembagian')\n",
        "print('-'*20)\n",
        "print(1/2)\n",
        "#Modulus\n",
        "print('Modulus')\n",
        "print('-'*20)\n",
        "print(1%4)\n",
        "#Perpangkatan\n",
        "print('Perpangkatan')\n",
        "print('-'*20)\n",
        "print(3**5)\n",
        "#Pembagian dengan hasil pembulatan flooring\n",
        "print('Pembagian pembulatan flooring')\n",
        "print('-'*20)\n",
        "print(10//7)"
      ],
      "execution_count": null,
      "outputs": [
        {
          "output_type": "stream",
          "name": "stdout",
          "text": [
            "Penjumlahan\n",
            "9\n",
            "Pengurangan\n",
            "--------------------\n",
            "12\n",
            "Perkalian\n",
            "--------------------\n",
            "100\n",
            "Pembagian\n",
            "--------------------\n",
            "0.5\n",
            "Modulus\n",
            "--------------------\n",
            "1\n",
            "Perpangkatan\n",
            "--------------------\n",
            "243\n",
            "Pembagian pembulatan flooring\n",
            "--------------------\n",
            "1\n"
          ]
        }
      ]
    },
    {
      "cell_type": "markdown",
      "metadata": {
        "id": "Ca-MflP5Y2vw"
      },
      "source": [
        "## Operator Assignment\n",
        "Operator Assignment digunakan untuk menyimpan nilai menjadi suatu variabel\n",
        "\n"
      ]
    },
    {
      "cell_type": "code",
      "metadata": {
        "id": "uUFkK54hhitg"
      },
      "source": [
        "= : Contohnya x = 5 -> x = 5\n",
        "+= : Contohnya x = x + 5 -> x += 5\n",
        "-= : Contohnya x = x - 5 -> x -= 5\n",
        "*= : Contohnya x = x * 5 -> x *= 5\n",
        "/= : Contohnya x = x / 5 -> x /= 5\n",
        "%= : Contohnya x = x % 5 -> x %= 5\n",
        "//= : Contohnya x = x // 5 -> x //= 5\n",
        "**= : Contohnya x = x ** 5 -> x **= 5"
      ],
      "execution_count": null,
      "outputs": []
    },
    {
      "cell_type": "code",
      "metadata": {
        "colab": {
          "base_uri": "https://localhost:8080/"
        },
        "id": "LIi4K50sbU2a",
        "outputId": "e86be1aa-8062-4589-e00d-bcccae20ae3c"
      },
      "source": [
        "#Contoh Penggunaan Operator Assignment\n",
        "\n",
        "#Penjumlahan\n",
        "print('Penjumlahan')\n",
        "x=5\n",
        "x=x+5\n",
        "print(x)\n",
        "x=5\n",
        "x+=3\n",
        "print(x)\n",
        "print('-'*20)\n",
        "\n",
        "#Pengurangan\n",
        "print('Pengurangan')\n",
        "x=5\n",
        "x=x-5\n",
        "print(x)\n",
        "x=5\n",
        "x-=3\n",
        "print(x)\n",
        "print('-'*20)\n",
        "\n",
        "#Perkalian\n",
        "print('Pengurangan')\n",
        "x=5\n",
        "x=x*5\n",
        "print(x)\n",
        "x=5\n",
        "x*=3\n",
        "print(x)\n",
        "print('-'*20)\n",
        "\n",
        "#Pembagian\n",
        "print('Pengurangan')\n",
        "x=5\n",
        "x=x/5\n",
        "print(x)\n",
        "x=5\n",
        "x/=3\n",
        "print(x)\n",
        "print('-'*20)\n",
        "\n",
        "#Modulus\n",
        "print('Pengurangan')\n",
        "x=5\n",
        "x=x%5\n",
        "print(x)\n",
        "x=5\n",
        "x%=3\n",
        "print(x)\n",
        "print('-'*20)\n",
        "\n",
        "#Pembagian Flooring\n",
        "print('Pengurangan')\n",
        "x=5\n",
        "x=x//5\n",
        "print(x)\n",
        "x=5\n",
        "x//=3\n",
        "print(x)\n",
        "print('-'*20)\n",
        "\n",
        "#Perpangkatan\n",
        "print('Perpangkatan')\n",
        "x=5\n",
        "x=x**5\n",
        "print(x)\n",
        "x=5\n",
        "x**=3\n",
        "print(x)\n",
        "print('-'*20)"
      ],
      "execution_count": null,
      "outputs": [
        {
          "output_type": "stream",
          "name": "stdout",
          "text": [
            "Penjumlahan\n",
            "10\n",
            "8\n",
            "--------------------\n",
            "Pengurangan\n",
            "0\n",
            "2\n",
            "--------------------\n",
            "Pengurangan\n",
            "25\n",
            "15\n",
            "--------------------\n",
            "Pengurangan\n",
            "1.0\n",
            "1.6666666666666667\n",
            "--------------------\n",
            "Pengurangan\n",
            "0\n",
            "2\n",
            "--------------------\n",
            "Pengurangan\n",
            "1\n",
            "1\n",
            "--------------------\n",
            "Perpangkatan\n",
            "3125\n",
            "125\n",
            "--------------------\n"
          ]
        }
      ]
    },
    {
      "cell_type": "markdown",
      "metadata": {
        "id": "0Qri2Whmgk9D"
      },
      "source": [
        "### Latihan Operator 2"
      ]
    },
    {
      "cell_type": "code",
      "metadata": {
        "colab": {
          "base_uri": "https://localhost:8080/"
        },
        "id": "V4zTG12WgqPG",
        "outputId": "f98fb7f5-4005-4ac7-b1c1-83af4ef95889"
      },
      "source": [
        "# Buatlah program penerapan operator assignment\n",
        "# dengan nilai nilai yang berbeda  dari contoh diatas\n",
        "\n",
        "#Penjumlahan\n",
        "print('Penjumlahan')\n",
        "x=7\n",
        "x=x+7\n",
        "print(x)\n",
        "x=7\n",
        "x+=8\n",
        "print(x)\n",
        "print('-'*20)\n",
        "\n",
        "#Pengurangan\n",
        "print('Pengurangan')\n",
        "x=7\n",
        "x=x-7\n",
        "print(x)\n",
        "x=7\n",
        "x-=8\n",
        "print(x)\n",
        "print('-'*20)\n",
        "\n",
        "#Perkalian\n",
        "print('Pengurangan')\n",
        "x=7\n",
        "x=x*7\n",
        "print(x)\n",
        "x=7\n",
        "x*=8\n",
        "print(x)\n",
        "print('-'*20)\n",
        "\n",
        "#Pembagian\n",
        "print('Pengurangan')\n",
        "x=7\n",
        "x=x/7\n",
        "print(x)\n",
        "x=7\n",
        "x/=8\n",
        "print(x)\n",
        "print('-'*20)\n",
        "\n",
        "#Modulus\n",
        "print('Pengurangan')\n",
        "x=7\n",
        "x=x%7\n",
        "print(x)\n",
        "x=7\n",
        "x%=8\n",
        "print(x)\n",
        "print('-'*20)\n",
        "\n",
        "#Pembagian Flooring\n",
        "print('Pengurangan')\n",
        "x=7\n",
        "x=x//7\n",
        "print(x)\n",
        "x=7\n",
        "x//=8\n",
        "print(x)\n",
        "print('-'*20)\n",
        "\n",
        "#Perpangkatan\n",
        "print('Perpangkatan')\n",
        "x=7\n",
        "x=x**7\n",
        "print(x)\n",
        "x=7\n",
        "x**=8\n",
        "print(x)\n",
        "print('-'*20)\n"
      ],
      "execution_count": null,
      "outputs": [
        {
          "output_type": "stream",
          "name": "stdout",
          "text": [
            "Penjumlahan\n",
            "14\n",
            "15\n",
            "--------------------\n",
            "Pengurangan\n",
            "0\n",
            "-1\n",
            "--------------------\n",
            "Pengurangan\n",
            "49\n",
            "56\n",
            "--------------------\n",
            "Pengurangan\n",
            "1.0\n",
            "0.875\n",
            "--------------------\n",
            "Pengurangan\n",
            "0\n",
            "7\n",
            "--------------------\n",
            "Pengurangan\n",
            "1\n",
            "0\n",
            "--------------------\n",
            "Perpangkatan\n",
            "823543\n",
            "5764801\n",
            "--------------------\n"
          ]
        }
      ]
    },
    {
      "cell_type": "markdown",
      "metadata": {
        "id": "YIzkOAAqY84j"
      },
      "source": [
        "## Operator Pembanding\n",
        "Operator Pembanding digunakan untuk membandingkan 2 nilai atau variabel\n",
        "\n",
        "Macam macam Operator pembanding :\n"
      ]
    },
    {
      "cell_type": "code",
      "metadata": {
        "id": "sI4G8i3FhvGw"
      },
      "source": [
        "== -> samadengan\n",
        "!= -> tidak samadengan\n",
        "> -> lebih dari\n",
        "< -> kurang dari\n",
        ">= lebih dari dan samadengan\n",
        "<= kurang dari dan samadengan"
      ],
      "execution_count": null,
      "outputs": []
    },
    {
      "cell_type": "code",
      "metadata": {
        "colab": {
          "base_uri": "https://localhost:8080/"
        },
        "id": "XIz7gc50iMnd",
        "outputId": "dcc5ff0d-04e5-4c80-aeb6-0d196e05ca59"
      },
      "source": [
        "# Contoh penggunaan operator pembanding\n",
        "\n",
        "print(2==2)\n",
        "print(2!=2)\n",
        "print(2>2)\n",
        "print(2<2)\n",
        "print(2>=2)\n",
        "print(2<=2)"
      ],
      "execution_count": null,
      "outputs": [
        {
          "output_type": "stream",
          "name": "stdout",
          "text": [
            "True\n",
            "False\n",
            "False\n",
            "False\n",
            "True\n",
            "True\n"
          ]
        }
      ]
    },
    {
      "cell_type": "markdown",
      "metadata": {
        "id": "721dg4c8i--r"
      },
      "source": [
        "### Latihan Operator 3"
      ]
    },
    {
      "cell_type": "code",
      "metadata": {
        "colab": {
          "base_uri": "https://localhost:8080/"
        },
        "id": "7H-YYKsMjHeS",
        "outputId": "cc9de1e9-4dc9-4277-906c-b976c5e32bd5"
      },
      "source": [
        "# Buatlah program penerapan operator pembanding\n",
        "# dengan nilai nilai yang berbeda  dari contoh diatas\n",
        "\n",
        "print(3==3)\n",
        "print(3!=3)\n",
        "print(3>3)\n",
        "print(3<3)\n",
        "print(3>=3)\n",
        "print(3<=3)"
      ],
      "execution_count": null,
      "outputs": [
        {
          "output_type": "stream",
          "name": "stdout",
          "text": [
            "True\n",
            "False\n",
            "False\n",
            "False\n",
            "True\n",
            "True\n"
          ]
        }
      ]
    },
    {
      "cell_type": "markdown",
      "metadata": {
        "id": "WyawTNmKZAb8"
      },
      "source": [
        "## Operator Logika\n",
        "Operator logika digunakan untuk mengkombinasikan  statement statement kondisional\n",
        "\n",
        "Macam macam opertaor logika :\n"
      ]
    },
    {
      "cell_type": "code",
      "metadata": {
        "id": "Isz_paA4vhaa"
      },
      "source": [
        "and -> kondisi menjadi benar apabila semua statementnya benar\n",
        "or -> kondisi menjadi benar apabila salah satu statementnya ada yang benar\n",
        "not -> membalik hasil adri benar ke salah dan salah ke benar"
      ],
      "execution_count": null,
      "outputs": []
    },
    {
      "cell_type": "code",
      "metadata": {
        "colab": {
          "base_uri": "https://localhost:8080/"
        },
        "id": "qX3AunKzwJn0",
        "outputId": "3836eb32-16f0-4804-cac2-5a02d73797df"
      },
      "source": [
        "# Contoh penggunaan operator loogika\n",
        "\n",
        "print(True and False)\n",
        "print(False or False)\n",
        "print(not False and True)"
      ],
      "execution_count": null,
      "outputs": [
        {
          "output_type": "stream",
          "name": "stdout",
          "text": [
            "False\n",
            "False\n",
            "True\n"
          ]
        }
      ]
    },
    {
      "cell_type": "markdown",
      "metadata": {
        "id": "Q1qxyk7fwbSY"
      },
      "source": [
        "### Latihan Operator 4"
      ]
    },
    {
      "cell_type": "code",
      "metadata": {
        "colab": {
          "base_uri": "https://localhost:8080/"
        },
        "id": "83scs7-pwfEq",
        "outputId": "159ff988-41a8-4e51-96c7-5072454ca63e"
      },
      "source": [
        "# Buatlah program penerapan operator logika\n",
        "# dengan nilai niali yang berbeda dari contoh diatas\n",
        "\n",
        "print(False and True)\n",
        "print(True or True)\n",
        "print(not True and False)"
      ],
      "execution_count": null,
      "outputs": [
        {
          "output_type": "stream",
          "name": "stdout",
          "text": [
            "False\n",
            "True\n",
            "False\n"
          ]
        }
      ]
    },
    {
      "cell_type": "markdown",
      "metadata": {
        "id": "xXma2av4ZD3m"
      },
      "source": [
        "## Operator Membership / Keanggotaan\n",
        "Operator keanggotaan digunakan untuk menguji apakah urutan disajikan dalam suatu objek \n",
        "\n",
        "Macam macam operator Keanggotaan :\n"
      ]
    },
    {
      "cell_type": "code",
      "metadata": {
        "id": "e0nouyu_xITU"
      },
      "source": [
        "in      -> return True ketika nilai tertentu dalam sebuah urutan ada\n",
        "not in  -> return True ketika nilai tertentu dalam sebuah uruta tidak ada"
      ],
      "execution_count": null,
      "outputs": []
    },
    {
      "cell_type": "code",
      "metadata": {
        "colab": {
          "base_uri": "https://localhost:8080/"
        },
        "id": "PZDWcMGYxf6n",
        "outputId": "9121b7e6-c87d-4ae7-a865-fb1776cf002a"
      },
      "source": [
        "# Contoh penggunaan operator keanggotaan\n",
        "a=(1,2,3,4,5,6)\n",
        "b=2\n",
        "\n",
        "print(b in a)\n",
        "\n",
        "\n",
        "print('-'*20)\n",
        "a=(1,2,3,4,5,6)\n",
        "b=7\n",
        "print(b not in a)"
      ],
      "execution_count": null,
      "outputs": [
        {
          "output_type": "stream",
          "name": "stdout",
          "text": [
            "True\n",
            "--------------------\n",
            "True\n",
            "True\n",
            "--------------------\n",
            "True\n"
          ]
        }
      ]
    },
    {
      "cell_type": "markdown",
      "metadata": {
        "id": "ER74HcgLx8FU"
      },
      "source": [
        "### Latihan Operator 5"
      ]
    },
    {
      "cell_type": "code",
      "metadata": {
        "colab": {
          "base_uri": "https://localhost:8080/"
        },
        "id": "5Zj7ZBHFyA4-",
        "outputId": "ee59b36a-dfb5-49ae-a992-73704ec7f849"
      },
      "source": [
        "# # Buatlah program penerapan operator keanggotaan  membership\n",
        "# dengan nilai niali yang berbeda dari contoh diatas\n",
        "\n",
        "a=(3,4,5,6,7,8,9,10)\n",
        "b=3\n",
        "\n",
        "print(b in a)\n",
        "\n",
        "\n",
        "print('-'*20)\n",
        "a=(3,4,5,6,7,8,9,10)\n",
        "b=4\n",
        "print(b not in a)"
      ],
      "execution_count": null,
      "outputs": [
        {
          "output_type": "stream",
          "name": "stdout",
          "text": [
            "True\n",
            "--------------------\n",
            "False\n"
          ]
        }
      ]
    }
  ]
}