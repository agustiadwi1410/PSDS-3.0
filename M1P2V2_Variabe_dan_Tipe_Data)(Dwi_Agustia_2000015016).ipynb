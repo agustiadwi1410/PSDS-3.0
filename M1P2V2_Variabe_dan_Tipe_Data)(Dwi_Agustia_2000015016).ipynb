{
  "nbformat": 4,
  "nbformat_minor": 0,
  "metadata": {
    "colab": {
      "name": "M1P2V2_Variabe_dan_Tipe_Data)(Dwi Agustia_2000015016).ipynb",
      "provenance": [],
      "collapsed_sections": [],
      "toc_visible": true,
      "authorship_tag": "ABX9TyNb4/96SteSqJvvq6fHP51r",
      "include_colab_link": true
    },
    "kernelspec": {
      "name": "python3",
      "display_name": "Python 3"
    },
    "language_info": {
      "name": "python"
    }
  },
  "cells": [
    {
      "cell_type": "markdown",
      "metadata": {
        "id": "view-in-github",
        "colab_type": "text"
      },
      "source": [
        "<a href=\"https://colab.research.google.com/github/agustiadwi1410/PSDS-3.0/blob/main/M1P2V2_Variabe_dan_Tipe_Data)(Dwi_Agustia_2000015016).ipynb\" target=\"_parent\"><img src=\"https://colab.research.google.com/assets/colab-badge.svg\" alt=\"Open In Colab\"/></a>"
      ]
    },
    {
      "cell_type": "markdown",
      "metadata": {
        "id": "b_XKvKaq8ckK"
      },
      "source": [
        "#Variabel dan Tipe Data"
      ]
    },
    {
      "cell_type": "markdown",
      "metadata": {
        "id": "xo5DJz2D8fmN"
      },
      "source": [
        "##Variabel\n",
        "\n",
        "Variables: Lokal penyimpanan yang dapat digunakan untuk menampung sebuah data atau informasi. \n",
        "\n",
        "Syarat syarat penamaan variabel\n",
        "\n",
        "1. Karakter karakter yang digunakan untuk penamaan variable adalah alphabet, angka dan underscore.\n",
        "2. Karakter pertama variabel harus berupa huruf atau garis bawah/underscore, dan tidak bisa berupa angka.\n",
        "3. Nama sebuah variabel tidak bisa menggunakan keyword atau reserved words dari bahasa python seperti for, if dan lainnya.\n",
        "4. Karakter pada nama variabel bersifat sensitif (case-sensitif)."
      ]
    },
    {
      "cell_type": "code",
      "metadata": {
        "id": "FG0u7NCQ9Yjw"
      },
      "source": [
        "# membuat variabel \n",
        "kalimat ='ini adalah variabel'\n",
        "bilangan1 = 4\n",
        "bilangan2 = 2.5\n",
        "bilangan3 = True\n",
        "bilangan4 = 1j + 4"
      ],
      "execution_count": null,
      "outputs": []
    },
    {
      "cell_type": "code",
      "metadata": {
        "colab": {
          "base_uri": "https://localhost:8080/"
        },
        "id": "lk3ji3L29plj",
        "outputId": "42e315ed-0bff-433a-a18d-a11bb4097dab"
      },
      "source": [
        "# menampilkan variabel \n",
        "print(kalimat)\n",
        "print(bilangan1)\n",
        "print(bilangan2)"
      ],
      "execution_count": null,
      "outputs": [
        {
          "output_type": "stream",
          "name": "stdout",
          "text": [
            "ini adalah variabel\n",
            "4\n",
            "2.5\n"
          ]
        }
      ]
    },
    {
      "cell_type": "markdown",
      "metadata": {
        "id": "JcFw43Zf9v_k"
      },
      "source": [
        "###Latihan 1"
      ]
    },
    {
      "cell_type": "code",
      "metadata": {
        "colab": {
          "base_uri": "https://localhost:8080/"
        },
        "id": "X8ZnLmpQ-D2D",
        "outputId": "065f32d2-51e0-45c1-c8bc-468d055924bd"
      },
      "source": [
        "# buatlah 5 variabel kalian sendiri dengan 5 macam tipe data \n",
        "Kalimat = '5 variabel dengan macam-macam tipe data'\n",
        "Var1 = 7\n",
        "Var2 = 3.7 \n",
        "Var3 = True\n",
        "Var4 = 10j + 16\n",
        "\n",
        "# Lalu tampilkan variabel menggunakan fungsi print\n",
        "print(Kalimat)\n",
        "print(Var1)\n",
        "print(Var2)\n",
        "print(Var3)\n",
        "print(Var4)"
      ],
      "execution_count": null,
      "outputs": [
        {
          "output_type": "stream",
          "name": "stdout",
          "text": [
            "5 variabel dengan macam-macam tipe data\n",
            "7\n",
            "3.7\n",
            "True\n",
            "(16+10j)\n"
          ]
        }
      ]
    },
    {
      "cell_type": "markdown",
      "metadata": {
        "id": "znDkcUS38hqK"
      },
      "source": [
        "##Tipe Data"
      ]
    },
    {
      "cell_type": "markdown",
      "metadata": {
        "id": "pIWDUuT7-KYy"
      },
      "source": [
        "5 tipe data yaitu\n",
        "\n",
        "    1. Integr atau bilangan bulat\n",
        "    2. Float atau bilangan desimal\n",
        "    3. string atau kalimat\n",
        "    4. Boolean yang terdiri dari True dan False\n",
        "    5. Complex yang merupakan bilangan kompleks"
      ]
    },
    {
      "cell_type": "code",
      "metadata": {
        "colab": {
          "base_uri": "https://localhost:8080/"
        },
        "id": "o1CPXdLq-Wqd",
        "outputId": "9d92862e-cda5-4b1b-f7e1-4acf9b2f4936"
      },
      "source": [
        "# menampilkan tipe data\n",
        "print(type(kalimat))\n",
        "print(type(bilangan1))\n",
        "print(type(bilangan2))\n",
        "print(type(bilangan3))\n",
        "print(type(bilangan4))"
      ],
      "execution_count": null,
      "outputs": [
        {
          "output_type": "stream",
          "name": "stdout",
          "text": [
            "<class 'str'>\n",
            "<class 'int'>\n",
            "<class 'float'>\n",
            "<class 'bool'>\n",
            "<class 'complex'>\n"
          ]
        }
      ]
    },
    {
      "cell_type": "markdown",
      "metadata": {
        "id": "XE5--iNW-fu6"
      },
      "source": [
        "###Latihan 2\n"
      ]
    },
    {
      "cell_type": "code",
      "metadata": {
        "colab": {
          "base_uri": "https://localhost:8080/"
        },
        "id": "Nq9pOKsd-kK7",
        "outputId": "2aa3d8f6-2f15-4e9e-b364-a55804b7eace"
      },
      "source": [
        "# cek tipe data variabel yang telah kalian buat pada latihan 1\n",
        "print(type(Kalimat))\n",
        "print(type(Var1))\n",
        "print(type(Var2))\n",
        "print(type(Var3))\n",
        "print(type(Var4))\n"
      ],
      "execution_count": null,
      "outputs": [
        {
          "output_type": "stream",
          "name": "stdout",
          "text": [
            "<class 'str'>\n",
            "<class 'int'>\n",
            "<class 'float'>\n",
            "<class 'bool'>\n",
            "<class 'complex'>\n"
          ]
        }
      ]
    },
    {
      "cell_type": "markdown",
      "metadata": {
        "id": "XAO2hdpb-mWy"
      },
      "source": [
        "##Konversi Tipe Data"
      ]
    },
    {
      "cell_type": "markdown",
      "metadata": {
        "id": "PtQn_TUy-rZ0"
      },
      "source": [
        "Syntax konversi tipe data\n",
        "\n",
        "      1. Integer = int()\n",
        "      2. Float = float()\n",
        "      3. String = str()\n",
        "      4. Boolean = bool()\n",
        "      5. Complex = Complex()"
      ]
    },
    {
      "cell_type": "code",
      "metadata": {
        "colab": {
          "base_uri": "https://localhost:8080/"
        },
        "id": "bvn-FH4p-8UH",
        "outputId": "b73edad2-c48a-42bf-bab9-9f5e76ffe76b"
      },
      "source": [
        "# konversi tipe data integer\n",
        "print(int(bilangan2))\n",
        "print(int(bilangan3))"
      ],
      "execution_count": null,
      "outputs": [
        {
          "output_type": "stream",
          "name": "stdout",
          "text": [
            "2\n",
            "1\n"
          ]
        }
      ]
    },
    {
      "cell_type": "code",
      "metadata": {
        "colab": {
          "base_uri": "https://localhost:8080/"
        },
        "id": "uUtnBlHx_BUH",
        "outputId": "a80a0d5c-4157-4273-b4dd-b6cc17db96a4"
      },
      "source": [
        "# konversi tipe data float\n",
        "print(float(bilangan1))\n",
        "print(float(bilangan3))"
      ],
      "execution_count": null,
      "outputs": [
        {
          "output_type": "stream",
          "name": "stdout",
          "text": [
            "4.0\n",
            "1.0\n"
          ]
        }
      ]
    },
    {
      "cell_type": "code",
      "metadata": {
        "colab": {
          "base_uri": "https://localhost:8080/"
        },
        "id": "OZOlrNZM_BmM",
        "outputId": "0c28eced-f09c-455f-80d9-5e4830d2e0d1"
      },
      "source": [
        "# konversi tipe data string \n",
        "print(str(bilangan1))\n",
        "print(str(bilangan2))\n",
        "print(str(bilangan3))"
      ],
      "execution_count": null,
      "outputs": [
        {
          "output_type": "stream",
          "name": "stdout",
          "text": [
            "4\n",
            "2.5\n",
            "True\n"
          ]
        }
      ]
    },
    {
      "cell_type": "code",
      "metadata": {
        "colab": {
          "base_uri": "https://localhost:8080/"
        },
        "id": "XkJ6Uy0g_Ipm",
        "outputId": "de71f7db-7ffa-4c94-aff5-53abe240240a"
      },
      "source": [
        "# konversi tipe data bool\n",
        "print(bool(bilangan1))\n",
        "print(bool(bilangan2))"
      ],
      "execution_count": null,
      "outputs": [
        {
          "output_type": "stream",
          "name": "stdout",
          "text": [
            "True\n",
            "True\n"
          ]
        }
      ]
    },
    {
      "cell_type": "code",
      "metadata": {
        "colab": {
          "base_uri": "https://localhost:8080/"
        },
        "id": "Ocsv54NZ_NpV",
        "outputId": "a128f622-c428-423d-d4b7-2c24c41b5344"
      },
      "source": [
        "# konversi tipe data complex\n",
        "print(complex(bilangan1))\n",
        "print(complex(bilangan2))\n",
        "print(complex(bilangan3))"
      ],
      "execution_count": null,
      "outputs": [
        {
          "output_type": "stream",
          "name": "stdout",
          "text": [
            "(4+0j)\n",
            "(2.5+0j)\n",
            "(1+0j)\n"
          ]
        }
      ]
    },
    {
      "cell_type": "markdown",
      "metadata": {
        "id": "-VC0eqEj_SiR"
      },
      "source": [
        "###Latihan 3"
      ]
    },
    {
      "cell_type": "code",
      "metadata": {
        "colab": {
          "base_uri": "https://localhost:8080/"
        },
        "id": "cnxApmhJ_Vtk",
        "outputId": "121ac397-d804-49c7-feee-08b785d93d37"
      },
      "source": [
        "# Konversi tipe data yang telah kalian buat\n",
        "# menjadi berbagai macam tipe data\n",
        "\n",
        "# 1. Konversi tipe data integer\n",
        "print(int(Var2))\n",
        "print(int(Var3))\n",
        "\n",
        "#2. Konversi tipe data float\n",
        "print(float(Var1))\n",
        "print(float(Var3))\n",
        "\n",
        "#3. Konversi tipe data string \n",
        "print(str(Var1))\n",
        "print(str(Var2))\n",
        "print(str(Var3))\n",
        "\n",
        "#4. Konversi tipe data bool\n",
        "print(bool(Var1))\n",
        "print(bool(Var2))\n",
        "\n",
        "#5. Konversi tipe data complex\n",
        "print(complex(Var1))\n",
        "print(complex(Var2))\n",
        "print(complex(Var3))"
      ],
      "execution_count": null,
      "outputs": [
        {
          "output_type": "stream",
          "name": "stdout",
          "text": [
            "3\n",
            "1\n",
            "7.0\n",
            "1.0\n",
            "7\n",
            "3.7\n",
            "True\n",
            "True\n",
            "True\n",
            "(7+0j)\n",
            "(3.7+0j)\n",
            "(1+0j)\n"
          ]
        }
      ]
    }
  ]
}