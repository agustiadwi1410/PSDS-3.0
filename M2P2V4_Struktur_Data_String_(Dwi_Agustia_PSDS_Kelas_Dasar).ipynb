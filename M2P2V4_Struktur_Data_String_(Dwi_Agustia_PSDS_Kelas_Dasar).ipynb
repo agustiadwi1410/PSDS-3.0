{
  "nbformat": 4,
  "nbformat_minor": 0,
  "metadata": {
    "colab": {
      "name": "M2P2V4_Struktur_Data_String (Dwi Agustia_PSDS Kelas Dasar).ipynb",
      "provenance": [],
      "collapsed_sections": [],
      "authorship_tag": "ABX9TyN2R6vHrqhXqXgimpu560pe",
      "include_colab_link": true
    },
    "kernelspec": {
      "name": "python3",
      "display_name": "Python 3"
    },
    "language_info": {
      "name": "python"
    }
  },
  "cells": [
    {
      "cell_type": "markdown",
      "metadata": {
        "id": "view-in-github",
        "colab_type": "text"
      },
      "source": [
        "<a href=\"https://colab.research.google.com/github/agustiadwi1410/PSDS-3.0/blob/main/M2P2V4_Struktur_Data_String_(Dwi_Agustia_PSDS_Kelas_Dasar).ipynb\" target=\"_parent\"><img src=\"https://colab.research.google.com/assets/colab-badge.svg\" alt=\"Open In Colab\"/></a>"
      ]
    },
    {
      "cell_type": "markdown",
      "metadata": {
        "id": "0HuBqGhdZwnW"
      },
      "source": [
        "**DWI AGUSTIA**\n",
        "\n",
        "**2000015016**\n",
        "\n",
        "**PSDS Kelas Dasar**"
      ]
    },
    {
      "cell_type": "markdown",
      "metadata": {
        "id": "MbduDnZoZ57z"
      },
      "source": [
        "#String"
      ]
    },
    {
      "cell_type": "markdown",
      "metadata": {
        "id": "vQ7Qdyx5aC8S"
      },
      "source": [
        "String di deklarasikan  dengan di apit oleh tanda petik."
      ]
    },
    {
      "cell_type": "code",
      "metadata": {
        "colab": {
          "base_uri": "https://localhost:8080/"
        },
        "id": "VSCXqK3jZpaW",
        "outputId": "908e51de-1d7f-4780-e64e-237d13b11b2f"
      },
      "source": [
        "#Menampilkan string dengan fungsi print()\n",
        "print(\"Hello World!\")"
      ],
      "execution_count": null,
      "outputs": [
        {
          "output_type": "stream",
          "name": "stdout",
          "text": [
            "Hello World!\n"
          ]
        }
      ]
    },
    {
      "cell_type": "code",
      "metadata": {
        "colab": {
          "base_uri": "https://localhost:8080/"
        },
        "id": "4lU2W7DPaV-4",
        "outputId": "07b11eaa-6330-49e5-c469-57f47e4a84d1"
      },
      "source": [
        "#Membuat variabel bertipe string\n",
        "A = \"Belajar Struktur data String\"\n",
        "print(A)"
      ],
      "execution_count": null,
      "outputs": [
        {
          "output_type": "stream",
          "name": "stdout",
          "text": [
            "Belajar Struktur data String\n"
          ]
        }
      ]
    },
    {
      "cell_type": "code",
      "metadata": {
        "colab": {
          "base_uri": "https://localhost:8080/"
        },
        "id": "SitsqU8qakUz",
        "outputId": "a09dc39b-ee2a-47b3-bfd0-9bb438b18f75"
      },
      "source": [
        "#Membuat variabel string multi-line dengan 3 tanda petik\n",
        "B = \"\"\"Belajar Phyton\n",
        "Pejuang data 3.0\n",
        "PSDS\n",
        "String\"\"\"\n",
        "print(B)"
      ],
      "execution_count": null,
      "outputs": [
        {
          "output_type": "stream",
          "name": "stdout",
          "text": [
            "Belajar Phyton\n",
            "Pejuang data 3.0\n",
            "PSDS\n",
            "String\n"
          ]
        }
      ]
    },
    {
      "cell_type": "code",
      "metadata": {
        "colab": {
          "base_uri": "https://localhost:8080/"
        },
        "id": "119MCOS8bFtA",
        "outputId": "bcaff36b-5738-4934-e53c-92dc2386b7c1"
      },
      "source": [
        "#Menampilkan karakter tertentu dalam string\n",
        "print(A[2])"
      ],
      "execution_count": null,
      "outputs": [
        {
          "output_type": "stream",
          "name": "stdout",
          "text": [
            "l\n"
          ]
        }
      ]
    },
    {
      "cell_type": "code",
      "metadata": {
        "colab": {
          "base_uri": "https://localhost:8080/"
        },
        "id": "WwitWEPfbO85",
        "outputId": "e5ebe06f-b416-47e4-ad55-02a12e170ef7"
      },
      "source": [
        "#Slicing pada String\n",
        "A = \"Belajar Struktur data String\"\n",
        "print(A[:5])\n",
        "print(A[3:])\n",
        "print(A[-5:])\n",
        "print(A[4:9])"
      ],
      "execution_count": null,
      "outputs": [
        {
          "output_type": "stream",
          "name": "stdout",
          "text": [
            "Belaj\n",
            "ajar Struktur data String\n",
            "tring\n",
            "jar S\n"
          ]
        }
      ]
    },
    {
      "cell_type": "markdown",
      "metadata": {
        "id": "auiKkUIjbneQ"
      },
      "source": [
        "##Latihan 1"
      ]
    },
    {
      "cell_type": "code",
      "metadata": {
        "colab": {
          "base_uri": "https://localhost:8080/"
        },
        "id": "h6HZi1ALbpr6",
        "outputId": "5d284041-1a40-4578-ae3c-370c427a50e3"
      },
      "source": [
        "#Buatlah variabel String lalu lakukan slicing dengan menghilangkan karakter pertama dan terakhir\n",
        "D = \"Aku menyukai Seseorang yang berasal dari Palembang\"\n",
        "print(D[7:])\n",
        "print(D[:-7])"
      ],
      "execution_count": null,
      "outputs": [
        {
          "output_type": "stream",
          "name": "stdout",
          "text": [
            "yukai Seseorang yang berasal dari Palembang\n",
            "Aku menyukai Seseorang yang berasal dari Pa\n"
          ]
        }
      ]
    },
    {
      "cell_type": "markdown",
      "metadata": {
        "id": "mZDNuFS7b20f"
      },
      "source": [
        "#Memodifikasi String"
      ]
    },
    {
      "cell_type": "code",
      "metadata": {
        "colab": {
          "base_uri": "https://localhost:8080/",
          "height": 35
        },
        "id": "9wxkwVt7b5XO",
        "outputId": "b03f4dc1-92d2-4c8d-bf37-981db7a5c49c"
      },
      "source": [
        "# Upper()\n",
        "A.upper()"
      ],
      "execution_count": null,
      "outputs": [
        {
          "output_type": "execute_result",
          "data": {
            "application/vnd.google.colaboratory.intrinsic+json": {
              "type": "string"
            },
            "text/plain": [
              "'BELAJAR STRUKTUR DATA STRING'"
            ]
          },
          "metadata": {},
          "execution_count": 9
        }
      ]
    },
    {
      "cell_type": "code",
      "metadata": {
        "colab": {
          "base_uri": "https://localhost:8080/",
          "height": 35
        },
        "id": "z03Ga4wHJVom",
        "outputId": "b097d996-ce80-4e7f-b5f5-7bff50f01b29"
      },
      "source": [
        "#lower()\n",
        "A.lower()"
      ],
      "execution_count": null,
      "outputs": [
        {
          "output_type": "execute_result",
          "data": {
            "application/vnd.google.colaboratory.intrinsic+json": {
              "type": "string"
            },
            "text/plain": [
              "'belajar struktur data string'"
            ]
          },
          "metadata": {},
          "execution_count": 10
        }
      ]
    },
    {
      "cell_type": "code",
      "metadata": {
        "colab": {
          "base_uri": "https://localhost:8080/",
          "height": 35
        },
        "id": "lWvLUAR8cE-1",
        "outputId": "b5defe26-1885-45f1-9794-230318286667"
      },
      "source": [
        "# Strip()\n",
        "A.strip()"
      ],
      "execution_count": null,
      "outputs": [
        {
          "output_type": "execute_result",
          "data": {
            "application/vnd.google.colaboratory.intrinsic+json": {
              "type": "string"
            },
            "text/plain": [
              "'Belajar Struktur data String'"
            ]
          },
          "metadata": {},
          "execution_count": 11
        }
      ]
    },
    {
      "cell_type": "code",
      "metadata": {
        "colab": {
          "base_uri": "https://localhost:8080/",
          "height": 35
        },
        "id": "ECSM-ukxcJyK",
        "outputId": "22fb2282-ebad-4ab5-e95b-a2a6a94db7ca"
      },
      "source": [
        "# Replace()\n",
        "A.replace('1', 'd')"
      ],
      "execution_count": null,
      "outputs": [
        {
          "output_type": "execute_result",
          "data": {
            "application/vnd.google.colaboratory.intrinsic+json": {
              "type": "string"
            },
            "text/plain": [
              "'Belajar Struktur data String'"
            ]
          },
          "metadata": {},
          "execution_count": 13
        }
      ]
    },
    {
      "cell_type": "code",
      "metadata": {
        "colab": {
          "base_uri": "https://localhost:8080/"
        },
        "id": "lsyu_gCbcQGo",
        "outputId": "e6d826f6-46b2-451e-9e5b-234f9750ca8c"
      },
      "source": [
        "#Split()\n",
        "A.split()"
      ],
      "execution_count": null,
      "outputs": [
        {
          "output_type": "execute_result",
          "data": {
            "text/plain": [
              "['Belajar', 'Struktur', 'data', 'String']"
            ]
          },
          "metadata": {},
          "execution_count": 14
        }
      ]
    },
    {
      "cell_type": "markdown",
      "metadata": {
        "id": "X995JR-8cVfl"
      },
      "source": [
        "#Menggabugkan String"
      ]
    },
    {
      "cell_type": "code",
      "metadata": {
        "colab": {
          "base_uri": "https://localhost:8080/",
          "height": 35
        },
        "id": "6tr1nvB4cZJ8",
        "outputId": "de7f892e-84c5-4004-bcca-06950dccdba6"
      },
      "source": [
        "A = \"Belajar Struktur data String\"\n",
        "B = \"Pejuang Data 3.0\"\n",
        "A + \" \" + B "
      ],
      "execution_count": null,
      "outputs": [
        {
          "output_type": "execute_result",
          "data": {
            "application/vnd.google.colaboratory.intrinsic+json": {
              "type": "string"
            },
            "text/plain": [
              "'Belajar Struktur data String Pejuang Data 3.0'"
            ]
          },
          "metadata": {},
          "execution_count": 16
        }
      ]
    },
    {
      "cell_type": "markdown",
      "metadata": {
        "id": "ERblDV9jcptN"
      },
      "source": [
        "##Latihan 2"
      ]
    },
    {
      "cell_type": "code",
      "metadata": {
        "colab": {
          "base_uri": "https://localhost:8080/",
          "height": 35
        },
        "id": "_74wZocNcrsk",
        "outputId": "4b711e78-ca2e-40a2-d08a-63cbde7ca144"
      },
      "source": [
        "#Ganti semua huruf vokal menjadi \"i\" pada string  yang telah kalian buat pada latihan 1\n",
        "\n",
        "\n",
        "K = D.replace('A', 'i')\n",
        "L = K.replace('a', 'i')\n",
        "M = L.replace('u', 'i')\n",
        "N = M.replace('e','i')\n",
        "N.replace('o','i')"
      ],
      "execution_count": null,
      "outputs": [
        {
          "output_type": "execute_result",
          "data": {
            "application/vnd.google.colaboratory.intrinsic+json": {
              "type": "string"
            },
            "text/plain": [
              "'iki minyikii Sisiiring ying birisil diri Pilimbing'"
            ]
          },
          "metadata": {},
          "execution_count": 53
        }
      ]
    }
  ]
}