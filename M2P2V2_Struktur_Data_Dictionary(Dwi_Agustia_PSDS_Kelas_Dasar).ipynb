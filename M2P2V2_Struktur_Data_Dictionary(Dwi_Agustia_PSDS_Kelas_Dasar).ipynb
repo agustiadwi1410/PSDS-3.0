{
  "nbformat": 4,
  "nbformat_minor": 0,
  "metadata": {
    "colab": {
      "name": "M2P2V2_Struktur_Data_Dictionary(Dwi Agustia_PSDS Kelas Dasar).ipynb",
      "provenance": [],
      "collapsed_sections": [],
      "toc_visible": true,
      "authorship_tag": "ABX9TyOhogXVwDH/nA/mTOgSAd9X",
      "include_colab_link": true
    },
    "kernelspec": {
      "name": "python3",
      "display_name": "Python 3"
    },
    "language_info": {
      "name": "python"
    }
  },
  "cells": [
    {
      "cell_type": "markdown",
      "metadata": {
        "id": "view-in-github",
        "colab_type": "text"
      },
      "source": [
        "<a href=\"https://colab.research.google.com/github/agustiadwi1410/PSDS-3.0/blob/main/M2P2V2_Struktur_Data_Dictionary(Dwi_Agustia_PSDS_Kelas_Dasar).ipynb\" target=\"_parent\"><img src=\"https://colab.research.google.com/assets/colab-badge.svg\" alt=\"Open In Colab\"/></a>"
      ]
    },
    {
      "cell_type": "markdown",
      "metadata": {
        "id": "2_6WsOmjUKGP"
      },
      "source": [
        "**DWI AGUSTIA**\n",
        "\n",
        "**2000015016**\n",
        "\n",
        "**PSDS Kelas Dasar**"
      ]
    },
    {
      "cell_type": "markdown",
      "metadata": {
        "id": "rFH-x_QJUSQD"
      },
      "source": [
        "#Dictionary"
      ]
    },
    {
      "cell_type": "markdown",
      "metadata": {
        "id": "bf5ecIAxUdev"
      },
      "source": [
        "Dictionary pada phyton adalah kumpulan pasangan kunci-nilai (pair of key-value) yang bersifat tidak berurutan. Dictionary dapat digunakan untuk menyimpan data kecil hingga besar. Untuk mengakses datanya, kita harus mengetahui kuncinya (key). Pada Phyton, dictionary didefinisikan dengan kurawal dan tambahan definisi berikut :\n",
        "*   Setiap elemen pair key-value dipisahkan  denga koma(').\n",
        "*   Key dan Value dipisahkan dengan titik dua (:).\n",
        "*   Key dan Value dapat berupa tipe variabel/obyek apapun.\n",
        "\n"
      ]
    },
    {
      "cell_type": "code",
      "metadata": {
        "colab": {
          "base_uri": "https://localhost:8080/"
        },
        "id": "OFTRt-k2XYeY",
        "outputId": "d510d035-2324-4570-ce97-442f40972965"
      },
      "source": [
        "L1 = [1,'dua',True,(2+3j),(2+3j)]\n",
        "L1"
      ],
      "execution_count": null,
      "outputs": [
        {
          "output_type": "execute_result",
          "data": {
            "text/plain": [
              "[1, 'dua', True, (2+3j), (2+3j)]"
            ]
          },
          "metadata": {},
          "execution_count": 1
        }
      ]
    },
    {
      "cell_type": "code",
      "metadata": {
        "colab": {
          "base_uri": "https://localhost:8080/"
        },
        "id": "vaVON_d_Wtlx",
        "outputId": "0e70cf61-83cc-4a33-81a3-e3736fc067b9"
      },
      "source": [
        "#Contoh Dictionary\n",
        "D1 = {1:'value','key':2}\n",
        "\n",
        "print (D1)"
      ],
      "execution_count": null,
      "outputs": [
        {
          "output_type": "stream",
          "name": "stdout",
          "text": [
            "{1: 'value', 'key': 2}\n"
          ]
        }
      ]
    },
    {
      "cell_type": "markdown",
      "metadata": {
        "id": "Y5wAN4PAXhdi"
      },
      "source": [
        "##Latihan 1"
      ]
    },
    {
      "cell_type": "code",
      "metadata": {
        "colab": {
          "base_uri": "https://localhost:8080/"
        },
        "id": "1UMlpie8Xg_M",
        "outputId": "340272dd-1591-40bf-d318-82bf2e3739c6"
      },
      "source": [
        "#Buatlah Struktur data dictionary kalian sendiri\n",
        "MA1 = {3:'value','key':7}\n",
        "\n",
        "print (MA1)"
      ],
      "execution_count": null,
      "outputs": [
        {
          "output_type": "stream",
          "name": "stdout",
          "text": [
            "{3: 'value', 'key': 7}\n"
          ]
        }
      ]
    },
    {
      "cell_type": "code",
      "metadata": {
        "colab": {
          "base_uri": "https://localhost:8080/"
        },
        "id": "0xmblkt5Xx2l",
        "outputId": "4b18db8b-378e-4b5e-ae75-df074da7ccd6"
      },
      "source": [
        "L1[0]"
      ],
      "execution_count": null,
      "outputs": [
        {
          "output_type": "execute_result",
          "data": {
            "text/plain": [
              "1"
            ]
          },
          "metadata": {},
          "execution_count": 4
        }
      ]
    },
    {
      "cell_type": "code",
      "metadata": {
        "colab": {
          "base_uri": "https://localhost:8080/"
        },
        "id": "aqglmUXlYIJP",
        "outputId": "464b14eb-f8fd-4841-e09b-aaa259799f6a"
      },
      "source": [
        "MA1['key']"
      ],
      "execution_count": null,
      "outputs": [
        {
          "output_type": "execute_result",
          "data": {
            "text/plain": [
              "7"
            ]
          },
          "metadata": {},
          "execution_count": 5
        }
      ]
    },
    {
      "cell_type": "code",
      "metadata": {
        "colab": {
          "base_uri": "https://localhost:8080/"
        },
        "id": "XwmA0T2lYLwF",
        "outputId": "2b634e9c-e409-46d5-ae03-770afafd35b6"
      },
      "source": [
        "#Memanggil elemen berdasarkan key\n",
        "print(\"MA1['key'] = \", MA1['key']);"
      ],
      "execution_count": null,
      "outputs": [
        {
          "output_type": "stream",
          "name": "stdout",
          "text": [
            "MA1['key'] =  7\n"
          ]
        }
      ]
    },
    {
      "cell_type": "markdown",
      "metadata": {
        "id": "XeT9lT5AYiL_"
      },
      "source": [
        "Dictionary bukan termasuk dalam elementasi urutan (sequence) sehingga bisa dipanggil  dengan urutan indeks . Misalnya dalam conoth berikut dicoba dengan indeks 2, tetapi menghasilkan eror (Keyeror) karena tidak ada  kunci (key)2: "
      ]
    },
    {
      "cell_type": "code",
      "metadata": {
        "colab": {
          "base_uri": "https://localhost:8080/",
          "height": 185
        },
        "id": "6hxq3ziBY_zP",
        "outputId": "0db794b7-968c-4838-eb20-1293fb047196"
      },
      "source": [
        "#Nyobain error\n",
        "print(\"MA1[2] = \", MA1[2]);"
      ],
      "execution_count": null,
      "outputs": [
        {
          "output_type": "error",
          "ename": "KeyError",
          "evalue": "ignored",
          "traceback": [
            "\u001b[0;31m---------------------------------------------------------------------------\u001b[0m",
            "\u001b[0;31mKeyError\u001b[0m                                  Traceback (most recent call last)",
            "\u001b[0;32m<ipython-input-8-b561cca5ea77>\u001b[0m in \u001b[0;36m<module>\u001b[0;34m()\u001b[0m\n\u001b[1;32m      1\u001b[0m \u001b[0;31m#Nyobain error\u001b[0m\u001b[0;34m\u001b[0m\u001b[0;34m\u001b[0m\u001b[0;34m\u001b[0m\u001b[0m\n\u001b[0;32m----> 2\u001b[0;31m \u001b[0mprint\u001b[0m\u001b[0;34m(\u001b[0m\u001b[0;34m\"MA1[2] = \"\u001b[0m\u001b[0;34m,\u001b[0m \u001b[0mMA1\u001b[0m\u001b[0;34m[\u001b[0m\u001b[0;36m2\u001b[0m\u001b[0;34m]\u001b[0m\u001b[0;34m)\u001b[0m\u001b[0;34m;\u001b[0m\u001b[0;34m\u001b[0m\u001b[0;34m\u001b[0m\u001b[0m\n\u001b[0m",
            "\u001b[0;31mKeyError\u001b[0m: 2"
          ]
        }
      ]
    },
    {
      "cell_type": "markdown",
      "metadata": {
        "id": "BuEpqi0HZLZ9"
      },
      "source": [
        "##Latihan 2"
      ]
    },
    {
      "cell_type": "code",
      "metadata": {
        "colab": {
          "base_uri": "https://localhost:8080/"
        },
        "id": "19hov18GZPF7",
        "outputId": "ac759703-bb27-4f5b-b308-69bc9b315c57"
      },
      "source": [
        "#Panggil salah satu key dan value pada dictionary yang kalian buat\n",
        "print(\"MA1['key'] = \", MA1['key']);"
      ],
      "execution_count": null,
      "outputs": [
        {
          "output_type": "stream",
          "name": "stdout",
          "text": [
            "MA1['key'] =  7\n"
          ]
        }
      ]
    }
  ]
}