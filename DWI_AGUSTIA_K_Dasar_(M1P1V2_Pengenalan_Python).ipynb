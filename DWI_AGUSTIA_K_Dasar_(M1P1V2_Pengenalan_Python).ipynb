{
  "nbformat": 4,
  "nbformat_minor": 0,
  "metadata": {
    "colab": {
      "name": "DWI AGUSTIA_K.Dasar (M1P1V2_Pengenalan_Python).ipynb",
      "provenance": [],
      "collapsed_sections": [],
      "include_colab_link": true
    },
    "kernelspec": {
      "name": "python3",
      "display_name": "Python 3"
    },
    "language_info": {
      "name": "python"
    }
  },
  "cells": [
    {
      "cell_type": "markdown",
      "metadata": {
        "id": "view-in-github",
        "colab_type": "text"
      },
      "source": [
        "<a href=\"https://colab.research.google.com/github/agustiadwi1410/PSDS-3.0/blob/main/DWI_AGUSTIA_K_Dasar_(M1P1V2_Pengenalan_Python).ipynb\" target=\"_parent\"><img src=\"https://colab.research.google.com/assets/colab-badge.svg\" alt=\"Open In Colab\"/></a>"
      ]
    },
    {
      "cell_type": "markdown",
      "metadata": {
        "id": "O1-ag_6GC9Wy"
      },
      "source": [
        "**Nama : Dwi Agustia**\n",
        "\n",
        "**NIM : 2000015016**\n",
        "\n",
        "**PSDS Kelas Dasar**"
      ]
    },
    {
      "cell_type": "markdown",
      "metadata": {
        "id": "uYu-U5K_mCSC"
      },
      "source": [
        "#Pengenalan Python#"
      ]
    },
    {
      "cell_type": "markdown",
      "metadata": {
        "id": "u8X6NUwdmQW6"
      },
      "source": [
        "Python adalah bahasa pemrograman tingkat tinggi dengan dinamic semantics. bersifat object oriented, dan interpretatif. Bahasa pemrograman ini fokus dikembangkan pada keterbacaan bahasa pemrograman.\n",
        "\n",
        "1. **Bahasa Pemrograman Tingkat Tinggi(HIgh Level Programming)** artinya sintaks kode lebih mudah ditafsirkan oleh manusia\n",
        "2. **Interpretatifini** artinya bahasa ini memerlukan intrepeter atau penerjemah. ini memungkinkan bagi kita untuk menggunakan bahasa yang lebih mudah kita pahami\n",
        "3. **Object Oriented** ini berarti bahwa bahasa pemrograman ini berorientasi kepada objek. hal ini membuat python lebih mudah untuk dikembangkan\n",
        "4. **Dynamic Semantics** python secara otomatis akan menyesuaikan tipe dari suatu variable berdasarkan inputnya"
      ]
    },
    {
      "cell_type": "markdown",
      "metadata": {
        "id": "8aKdX2Gg0m0U"
      },
      "source": [
        "# Mengapa Python "
      ]
    },
    {
      "cell_type": "markdown",
      "metadata": {
        "id": "EM9PWqwnnIYJ"
      },
      "source": [
        "1. Mudah dipahami\n",
        "2. Gratis dan Open Source\n",
        "3. Dinamis\n",
        "4. Memiliki Library Terlengkap untuk Data Sains\n"
      ]
    },
    {
      "cell_type": "markdown",
      "metadata": {
        "id": "cYfDzRWD1ZnG"
      },
      "source": [
        "# Struktur Program Pada Python"
      ]
    },
    {
      "cell_type": "markdown",
      "metadata": {
        "id": "KZFBrgdDoyBc"
      },
      "source": [
        "**Python pada umumnya terdiri dari :**"
      ]
    },
    {
      "cell_type": "markdown",
      "metadata": {
        "id": "SU24EWz2qKme"
      },
      "source": [
        "1. Statements"
      ]
    },
    {
      "cell_type": "code",
      "metadata": {
        "colab": {
          "base_uri": "https://localhost:8080/"
        },
        "id": "NlXGzZ2lnrXS",
        "outputId": "cf13dae2-cad7-451b-d3ce-7539ad853b10"
      },
      "source": [
        "print(\"belajar python menyenangkan\")\n",
        "print(\"halo dunia\")"
      ],
      "execution_count": null,
      "outputs": [
        {
          "output_type": "stream",
          "name": "stdout",
          "text": [
            "belajar python menyenangkan\n",
            "halo dunia\n"
          ]
        }
      ]
    },
    {
      "cell_type": "markdown",
      "metadata": {
        "id": "33bDJyiyqGfl"
      },
      "source": [
        "2. Variables"
      ]
    },
    {
      "cell_type": "code",
      "metadata": {
        "id": "h56JnR0Qo95P"
      },
      "source": [
        "bilangan1 = 5\n",
        "bilangan2 = 10 \n",
        "kalimat = \"Pejuang Data 3\""
      ],
      "execution_count": null,
      "outputs": []
    },
    {
      "cell_type": "markdown",
      "metadata": {
        "id": "r6H0Lto-p1x3"
      },
      "source": [
        "3. Literals: Simbol simbol yang dapat kita gunakan untuk mengisi suatu variabel."
      ]
    },
    {
      "cell_type": "markdown",
      "metadata": {
        "id": "EHOLwCAip20t"
      },
      "source": [
        "4. Operators: Simbol simbol yang dapat digunakan untuk mengubah nilai dari 1 variabel dengan melibatkan 1 atau lebih variabel dan literal"
      ]
    },
    {
      "cell_type": "code",
      "metadata": {
        "colab": {
          "base_uri": "https://localhost:8080/"
        },
        "id": "-t3Yr6fSpClg",
        "outputId": "02b30cc0-9606-4818-c470-d324528105b7"
      },
      "source": [
        "bilangan1 + bilangan2"
      ],
      "execution_count": null,
      "outputs": [
        {
          "output_type": "execute_result",
          "data": {
            "text/plain": [
              "15"
            ]
          },
          "metadata": {},
          "execution_count": 8
        }
      ]
    },
    {
      "cell_type": "markdown",
      "metadata": {
        "id": "V072az3DpsfZ"
      },
      "source": [
        "5. Reserved Words: Kumpulan kata kata yang memiliki makna khusus dalam bahasa pemrograman python. False,return, dan for merupakan contoh dari reserved words"
      ]
    },
    {
      "cell_type": "markdown",
      "metadata": {
        "id": "cXk2mj7UqXgA"
      },
      "source": [
        "6. Whitespace: Pada bahasa python, spasi dan tab memiliki makna khusus untuk menandai serangkain blok dalam kode python."
      ]
    },
    {
      "cell_type": "markdown",
      "metadata": {
        "id": "KgsbX3Tiqi1a"
      },
      "source": [
        "7. Comments: Comments merupakan sekumpulan teks yang dituliskan di dalam sebuah program yang tidak akan mempengaruhi hasil dari sebuah program"
      ]
    },
    {
      "cell_type": "markdown",
      "metadata": {
        "id": "ot8Fw_gnqoJ_"
      },
      "source": [
        "Terdapat dua jenis comments di dalam python, yaitu:\n",
        "\n",
        "a. single line comment (comments dalam satu baris) seperti pada contoh berikut:"
      ]
    },
    {
      "cell_type": "code",
      "metadata": {
        "id": "ozW5slOcquN4",
        "colab": {
          "base_uri": "https://localhost:8080/"
        },
        "outputId": "3c42b57f-24ad-4461-a42c-18ea752202d6"
      },
      "source": [
        "# Ini adalah Comment\n",
        "print(\"belajar python\")"
      ],
      "execution_count": null,
      "outputs": [
        {
          "output_type": "stream",
          "name": "stdout",
          "text": [
            "belajar python\n"
          ]
        }
      ]
    },
    {
      "cell_type": "markdown",
      "metadata": {
        "id": "xlzhr9iYqxxX"
      },
      "source": [
        "b. multi line comment (comments dalam beberapa baris) yang dapat dituliskan seperti pada contoh berikut:"
      ]
    },
    {
      "cell_type": "code",
      "metadata": {
        "colab": {
          "base_uri": "https://localhost:8080/"
        },
        "id": "j5YbNf6Rq9n1",
        "outputId": "ee866ce3-b7d0-446e-fc77-d1931e45a7ae"
      },
      "source": [
        "'''\n",
        "Ini adalah komentar panjang \n",
        "Bisa digunakan untuk memberikan penjelasan \n",
        "panjang pada Sell Kode Python,\n",
        "Misal dokumentasi program, spesifikasi \n",
        "input output atau lainnya \n",
        "'''\n",
        "print('Belajar python menyenangkan')"
      ],
      "execution_count": null,
      "outputs": [
        {
          "output_type": "stream",
          "name": "stdout",
          "text": [
            "Belajar python menyenangkan\n"
          ]
        }
      ]
    }
  ]
}