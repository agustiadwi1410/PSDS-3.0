{
  "nbformat": 4,
  "nbformat_minor": 0,
  "metadata": {
    "colab": {
      "name": "M3P2V1_Function(Dwi Agustia_PSDS Kelas Dasar).ipynb",
      "provenance": [],
      "collapsed_sections": [],
      "toc_visible": true,
      "authorship_tag": "ABX9TyOuvfGbY+5IVigcfOHiwQwe",
      "include_colab_link": true
    },
    "kernelspec": {
      "name": "python3",
      "display_name": "Python 3"
    },
    "language_info": {
      "name": "python"
    }
  },
  "cells": [
    {
      "cell_type": "markdown",
      "metadata": {
        "id": "view-in-github",
        "colab_type": "text"
      },
      "source": [
        "<a href=\"https://colab.research.google.com/github/agustiadwi1410/PSDS-3.0/blob/main/M3P2V1_Function(Dwi_Agustia_PSDS_Kelas_Dasar).ipynb\" target=\"_parent\"><img src=\"https://colab.research.google.com/assets/colab-badge.svg\" alt=\"Open In Colab\"/></a>"
      ]
    },
    {
      "cell_type": "markdown",
      "metadata": {
        "id": "AluFYAUFrnCW"
      },
      "source": [
        "**Nama : Dwi Agustia**\n",
        "\n",
        "**NIM : 2000015016**\n",
        "\n",
        "**PSDS KELAS DASAR**"
      ]
    },
    {
      "cell_type": "markdown",
      "metadata": {
        "id": "Hs6n2h9brqgk"
      },
      "source": [
        "#Function"
      ]
    },
    {
      "cell_type": "markdown",
      "metadata": {
        "id": "H6rJbJtDrzuJ"
      },
      "source": [
        "Function(Fungsi) adalah sebuah blok statement yang hanya  akan dijalankan saat ia dipanggil.\n",
        "\n",
        "Fungsi len() untuk mengukur jumlah elemen dalalm sebuah list dan fungsi print() untuk menampikan pesan pada layar konsol merupakan contoh dari bentuk fungsi yang telah disediakan oleh bahasa pemrograman Pythonatau dengan kata lain built-in functions. \n",
        "\n",
        "Selain fungsi yang telah disediakan oleh Python, Phyton mengizinkan untuk mendeklarasikan fungsi dalam kode yang dituliskan yang dikenal dengan user defined function\n",
        "\n",
        "```\n",
        "def nama_fungsi(argument):\n",
        "    statement_1\n",
        "    _\n",
        "    statement_n\n",
        "    return returned_value\n",
        "```\n",
        "\n",
        "* **nama_fungsi** adalah nama untuk fungsi yang anda definisikan, memiliki aturan seperti penamaan variabel.\n",
        "* **argument** adalah variabel yang dimasukan ke fungsi, bisa tanpa variabel, satu variabel atau lebih\n",
        "* **Statement_1** ... statement_n adalah algoritma yang telah anda transfer dalam bahasa Python yang merupakan inti dari fungsi yang anda definisikan. Seluruh statement adalah menjorok (indent) ke dalam seperti yang pernah anda pelajari pada conditioning dan looping.\n",
        "* **return_value** adalah variabel output dari fungsi Anda. bisa tanpa variabel, satu Variabel atau lebih."
      ]
    },
    {
      "cell_type": "markdown",
      "metadata": {
        "id": "DjTcSBePzFDj"
      },
      "source": [
        "#Argumen dan Parameter"
      ]
    },
    {
      "cell_type": "markdown",
      "metadata": {
        "id": "8CU2E_2vzIr9"
      },
      "source": [
        "* **Parameter** adalah variabel yang digunakan dalam deklarasi fungsi.\n",
        "* **Argumen** adalah nilai yang diberikan saat pemanggilan fungsi\n"
      ]
    },
    {
      "cell_type": "code",
      "metadata": {
        "colab": {
          "base_uri": "https://localhost:8080/"
        },
        "id": "LTFbxOnFtuzn",
        "outputId": "3ee45e32-2ec0-482f-e330-e964bef065ed"
      },
      "source": [
        " def print_nama(nama):  #'nama' adalah parameter\n",
        "      print(nama)\n",
        "\n",
        "print_nama('Budi') # 'Budi' adalah argumen"
      ],
      "execution_count": null,
      "outputs": [
        {
          "output_type": "stream",
          "name": "stdout",
          "text": [
            "Budi\n"
          ]
        }
      ]
    },
    {
      "cell_type": "markdown",
      "metadata": {
        "id": "O8YL9R7Uz_u6"
      },
      "source": [
        "#Argumen Posisi dan Kata Kunci"
      ]
    },
    {
      "cell_type": "markdown",
      "metadata": {
        "id": "33Q02kzB0EPE"
      },
      "source": [
        "Kita bisa menyatakan argumen sebagai argumen posisi atau kata kunci. Beberapa manfaat argument kata kunci dapat berupa:\n",
        "\n",
        "* kita dapat menyebutkan argumen dengan nama mereka untuk memperjelas apa yang mereka wakili.\n",
        "* Kita dapat mengatur ulang argumen dengan acra yang membuatnya paling mudah dibaca."
      ]
    },
    {
      "cell_type": "code",
      "metadata": {
        "colab": {
          "base_uri": "https://localhost:8080/"
        },
        "id": "I3EwBZaf0n4n",
        "outputId": "fda54524-8788-4ce3-9f1c-27a0c0971a90"
      },
      "source": [
        "def angka(a, b, c):\n",
        "    print(a, b, c)\n",
        "\n",
        "#Argumen posisi\n",
        "#Argumen berdasarkan posisinya\n",
        "angka(1, 2, 3)\n",
        "\n",
        "#Argumen berdasarkan kata kuncinya\n",
        "angka(a=1, b=2, c=3)\n",
        "angka(c=3, b=2, a=1)\n",
        "#Catatan : Jika sudah diberi kunci maka urutan tidak menjadi penting\n",
        "\n",
        "#Campuran antara Argumen posisi dan Argumen kata kunci\n",
        "angka(1, b=2, c=3)\n",
        "\n",
        "# Ini tidak diijinkan:\n",
        "# foo(1, b=2, 3) # Argumen posisional setelah argumen kunci\n",
        "# foo(1, b=2, a=3) # Terdapat dua nilai untuk argumen kunci 'a'"
      ],
      "execution_count": null,
      "outputs": [
        {
          "output_type": "stream",
          "name": "stdout",
          "text": [
            "1 2 3\n",
            "1 2 3\n",
            "1 2 3\n",
            "1 2 3\n"
          ]
        }
      ]
    },
    {
      "cell_type": "markdown",
      "metadata": {
        "id": "AXNofh-03kKM"
      },
      "source": [
        "#Argumen Default"
      ]
    },
    {
      "cell_type": "markdown",
      "metadata": {
        "id": "jd4M5Cg13vU4"
      },
      "source": [
        "Fungsi dapat memiliki argumen default denga nilai yang telah ditentukan sebelumnya. Argumen ini dapat ditinggalkan dan nilai default kemudian diteruskan ke fungsi, atau argumen dapat dirubah dengan nilai yang berbeda. \n",
        "\n",
        "Perhatikan bahwa argumen default harus ditentukan sebagai **parameter terakhir** dalam suatu fungsi."
      ]
    },
    {
      "cell_type": "code",
      "metadata": {
        "colab": {
          "base_uri": "https://localhost:8080/"
        },
        "id": "-iFQu8cn3l-9",
        "outputId": "abb217f2-5fd2-4f05-8ffa-948701d8ef79"
      },
      "source": [
        "# Argumen default\n",
        "def angka2(a, b, c, d=4):\n",
        "    print(1, b, c, d)\n",
        "\n",
        "angka2(1, 2, 3, 4)\n",
        "angka2(1, b=2, c=3, d=100)\n",
        "\n",
        "#Argumen default harus diletakkan terakhir"
      ],
      "execution_count": null,
      "outputs": [
        {
          "output_type": "stream",
          "name": "stdout",
          "text": [
            "1 2 3 4\n",
            "1 2 3 100\n"
          ]
        }
      ]
    },
    {
      "cell_type": "markdown",
      "metadata": {
        "id": "x_rFBlu35c9p"
      },
      "source": [
        "#Praktik Membuat Fungsi"
      ]
    },
    {
      "cell_type": "code",
      "metadata": {
        "colab": {
          "base_uri": "https://localhost:8080/"
        },
        "id": "CBb1E3VK0mlx",
        "outputId": "28517dcc-9b9c-4555-a4a7-ed6655b7f382"
      },
      "source": [
        "x = 1\n",
        "y = 2\n",
        "x*y"
      ],
      "execution_count": null,
      "outputs": [
        {
          "output_type": "execute_result",
          "data": {
            "text/plain": [
              "2"
            ]
          },
          "metadata": {},
          "execution_count": 6
        }
      ]
    },
    {
      "cell_type": "code",
      "metadata": {
        "colab": {
          "base_uri": "https://localhost:8080/"
        },
        "id": "Pr3140N8qWKo",
        "outputId": "5c19fe7f-9df0-43b6-97cb-568081496e45"
      },
      "source": [
        "def penjumlahan(x,y): #input\n",
        "  a=x+y               #proses\n",
        "  return a            #output\n",
        "\n",
        "penjumlahan(1, 2)     #menggunakan fungsi"
      ],
      "execution_count": null,
      "outputs": [
        {
          "output_type": "execute_result",
          "data": {
            "text/plain": [
              "3"
            ]
          },
          "metadata": {},
          "execution_count": 8
        }
      ]
    },
    {
      "cell_type": "markdown",
      "metadata": {
        "id": "MGAoheUC6Jab"
      },
      "source": [
        "**Penjumlahan yang memungkinkan untuk tiga bilangan**"
      ]
    },
    {
      "cell_type": "code",
      "metadata": {
        "id": "-QVctHiF6QFh",
        "colab": {
          "base_uri": "https://localhost:8080/"
        },
        "outputId": "78267c3c-5aef-4570-af96-fe5e971a69af"
      },
      "source": [
        "def penjumlahan(x,y,z=None):\n",
        "    if (z==None):\n",
        "        return x+y\n",
        "    else:\n",
        "        return x+y+z\n",
        "\n",
        "print(penjumlahan(1,2))\n",
        "print(penjumlahan(1,2,3))"
      ],
      "execution_count": null,
      "outputs": [
        {
          "output_type": "stream",
          "name": "stdout",
          "text": [
            "3\n",
            "6\n"
          ]
        }
      ]
    },
    {
      "cell_type": "markdown",
      "metadata": {
        "id": "DFN01X4wzrk5"
      },
      "source": [
        "**Penyimpanan hasil fungsi dari variabel**"
      ]
    },
    {
      "cell_type": "code",
      "metadata": {
        "colab": {
          "base_uri": "https://localhost:8080/"
        },
        "id": "3XB1nAJFz6Jj",
        "outputId": "7e3dc617-9559-41a0-e46e-9a1bd5400f13"
      },
      "source": [
        "def penjumlahan(x,y):\n",
        "  return x+y\n",
        "\n",
        "a = penjumlahan \n",
        "a(1,2)"
      ],
      "execution_count": null,
      "outputs": [
        {
          "output_type": "execute_result",
          "data": {
            "text/plain": [
              "3"
            ]
          },
          "metadata": {},
          "execution_count": 2
        }
      ]
    },
    {
      "cell_type": "markdown",
      "metadata": {
        "id": "kWD9GVji0p0V"
      },
      "source": [
        "## Latihan 1"
      ]
    },
    {
      "cell_type": "markdown",
      "metadata": {
        "id": "tJhcjJqs0xgF"
      },
      "source": [
        "Buatlah function pythagoras dengan input argumennya panjang tinggi dan alas segitiga untuk menghasilkan output nilai panjang sisi miring."
      ]
    },
    {
      "cell_type": "code",
      "metadata": {
        "id": "SxYDXqAu1LeK",
        "colab": {
          "base_uri": "https://localhost:8080/"
        },
        "outputId": "01a4b55f-2d3d-4016-e44b-142f70db5cb1"
      },
      "source": [
        "#Ketikkan codemu \n",
        "\n",
        "def panjang_tinggi_alas(x,y): \n",
        "    z = (x**2 + y**2)**(1/2)  \n",
        "    return  z                 \n",
        "\n",
        "panjang_tinggi_alas(6,8)"
      ],
      "execution_count": null,
      "outputs": [
        {
          "output_type": "execute_result",
          "data": {
            "text/plain": [
              "10.0"
            ]
          },
          "metadata": {},
          "execution_count": 40
        }
      ]
    },
    {
      "cell_type": "markdown",
      "metadata": {
        "id": "ogbG-Fnx1OdI"
      },
      "source": [
        "## Latihan 2"
      ]
    },
    {
      "cell_type": "markdown",
      "metadata": {
        "id": "nZSqKv0e1R88"
      },
      "source": [
        "Buatlah function luas permukaan balok dengan input argumennya panjang, lebar dan tinggi dari balok untuk menghasilkan output nilai luas permukaan tersebut."
      ]
    },
    {
      "cell_type": "code",
      "metadata": {
        "id": "zdcUFzO115A6",
        "colab": {
          "base_uri": "https://localhost:8080/"
        },
        "outputId": "37e6a2d1-cca5-4ea6-d532-b831a25b5ea9"
      },
      "source": [
        "#Ketikkan codemu\n",
        "\n",
        "def panjang_sisi_miring(P,l,t): \n",
        "    L = 2*((P*l)+(P*t)+(t*l)) \n",
        "    return  L                \n",
        "\n",
        "panjang_sisi_miring(40,20,10)"
      ],
      "execution_count": null,
      "outputs": [
        {
          "output_type": "execute_result",
          "data": {
            "text/plain": [
              "2800"
            ]
          },
          "metadata": {},
          "execution_count": 39
        }
      ]
    }
  ]
}