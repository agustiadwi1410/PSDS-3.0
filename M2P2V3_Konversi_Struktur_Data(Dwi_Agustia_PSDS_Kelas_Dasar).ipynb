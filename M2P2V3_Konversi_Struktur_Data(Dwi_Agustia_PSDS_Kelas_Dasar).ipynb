{
  "nbformat": 4,
  "nbformat_minor": 0,
  "metadata": {
    "colab": {
      "name": "M2P2V3_Konversi Struktur Data(Dwi Agustia_PSDS Kelas Dasar).ipynb",
      "provenance": [],
      "collapsed_sections": [],
      "authorship_tag": "ABX9TyM1l6J/97rOLn9+4pgs+Yub",
      "include_colab_link": true
    },
    "kernelspec": {
      "name": "python3",
      "display_name": "Python 3"
    },
    "language_info": {
      "name": "python"
    }
  },
  "cells": [
    {
      "cell_type": "markdown",
      "metadata": {
        "id": "view-in-github",
        "colab_type": "text"
      },
      "source": [
        "<a href=\"https://colab.research.google.com/github/agustiadwi1410/PSDS-3.0/blob/main/M2P2V3_Konversi_Struktur_Data(Dwi_Agustia_PSDS_Kelas_Dasar).ipynb\" target=\"_parent\"><img src=\"https://colab.research.google.com/assets/colab-badge.svg\" alt=\"Open In Colab\"/></a>"
      ]
    },
    {
      "cell_type": "markdown",
      "metadata": {
        "id": "h7NdZueqX-ZG"
      },
      "source": [
        "**DWI AGUSTIA**\n",
        "\n",
        "**NIM : 2000015016**\n",
        "\n",
        "**PSDS KELAS DASAR**"
      ]
    },
    {
      "cell_type": "markdown",
      "metadata": {
        "id": "3bUKwNxuie19"
      },
      "source": [
        "#Konversi Struktur Data"
      ]
    },
    {
      "cell_type": "markdown",
      "metadata": {
        "id": "hnX1Ph-ZiyJ_"
      },
      "source": [
        "Fungsi yang mengubah atau mengkonversi struktur data :\n",
        "\n",
        "a. ```list()``` : Untuk mengubah menjadi List\n",
        "\n",
        "b. ```tuple()``` : Untuk mengubah menjadi tuple\n",
        "\n",
        "c. ```set()``` : Untuk mengubah menjadi set\n",
        "\n",
        "d. ```dict()``` : Untuk mengubah menjadi dictionary"
      ]
    },
    {
      "cell_type": "markdown",
      "metadata": {
        "id": "dHLHXaxnjTUz"
      },
      "source": [
        "#Mengkonversi Tipe data list :"
      ]
    },
    {
      "cell_type": "code",
      "metadata": {
        "id": "Be8FqX6zZfGB"
      },
      "source": [
        "#Membuat 2 List\n",
        "L1 = [1, 2, 3, 4]\n",
        "L2 = [5, 6, 7, 8]"
      ],
      "execution_count": null,
      "outputs": []
    },
    {
      "cell_type": "code",
      "metadata": {
        "colab": {
          "base_uri": "https://localhost:8080/"
        },
        "id": "Elw4M1-OjnAj",
        "outputId": "1da30a65-1a42-4473-95bb-24a55e9c5f18"
      },
      "source": [
        "#Mengkonversi struktur data list\n",
        "k_tuple = tuple(L1)\n",
        "k_set = set(L2)\n",
        "k_dict = dict(zip(L1, L2))\n",
        "\n",
        "#Melihat data yang telah dikonversi\n",
        "print(k_tuple)\n",
        "print(k_set)\n",
        "print(k_dict)"
      ],
      "execution_count": null,
      "outputs": [
        {
          "output_type": "stream",
          "name": "stdout",
          "text": [
            "(1, 2, 3, 4)\n",
            "{8, 5, 6, 7}\n",
            "{1: 5, 2: 6, 3: 7, 4: 8}\n"
          ]
        }
      ]
    },
    {
      "cell_type": "markdown",
      "metadata": {
        "id": "Ey16uL4kkYoq"
      },
      "source": [
        "#Mengkonversi Tipe Data Tuple"
      ]
    },
    {
      "cell_type": "code",
      "metadata": {
        "id": "zmdABB03keHt"
      },
      "source": [
        "#Membuat dua tuple\n",
        "T1 = (1, 2, 3, 4)\n",
        "T2 = (5, 6, 7, 8)"
      ],
      "execution_count": null,
      "outputs": []
    },
    {
      "cell_type": "code",
      "metadata": {
        "colab": {
          "base_uri": "https://localhost:8080/"
        },
        "id": "dPFC395kkqFA",
        "outputId": "0be4d038-c59e-49ea-c640-71f78dac1f08"
      },
      "source": [
        "#Mengkonversi struktur data tuple\n",
        "k_list = list(T1)\n",
        "k_set = set(T2)\n",
        "k_dict = dict(zip(T1, T2))\n",
        "\n",
        "#Melihat data yang telah dikonversi\n",
        "print(k_list)\n",
        "print(k_set)\n",
        "print(k_dict)"
      ],
      "execution_count": null,
      "outputs": [
        {
          "output_type": "stream",
          "name": "stdout",
          "text": [
            "[1, 2, 3, 4]\n",
            "{8, 5, 6, 7}\n",
            "{1: 5, 2: 6, 3: 7, 4: 8}\n"
          ]
        }
      ]
    },
    {
      "cell_type": "markdown",
      "metadata": {
        "id": "xdDV1HgFlCn3"
      },
      "source": [
        "#Mengkonversi Tipe data Set"
      ]
    },
    {
      "cell_type": "code",
      "metadata": {
        "id": "HZvfeCYylFTH"
      },
      "source": [
        "#Membuat dua set\n",
        "S1 = (1, 2, 3, 4)\n",
        "S2 = (5, 6, 7, 8)"
      ],
      "execution_count": null,
      "outputs": []
    },
    {
      "cell_type": "code",
      "metadata": {
        "colab": {
          "base_uri": "https://localhost:8080/"
        },
        "id": "K25sra_NlObo",
        "outputId": "8000171d-d66d-433f-8b39-f34a071a620d"
      },
      "source": [
        "#Mengkonversi struktur data set\n",
        "k_list = list(S1)\n",
        "k_tuple = tuple(S2)\n",
        "k_dict = dict(zip(S1, S2))\n",
        "\n",
        "#Melihat data yang telah dikonversi\n",
        "print(k_list)\n",
        "print(k_tuple)\n",
        "print(k_dict)"
      ],
      "execution_count": null,
      "outputs": [
        {
          "output_type": "stream",
          "name": "stdout",
          "text": [
            "[1, 2, 3, 4]\n",
            "(5, 6, 7, 8)\n",
            "{1: 5, 2: 6, 3: 7, 4: 8}\n"
          ]
        }
      ]
    },
    {
      "cell_type": "markdown",
      "metadata": {
        "id": "5PUIjPC7l2-2"
      },
      "source": [
        "#Mengkonversi Tipe Data List"
      ]
    },
    {
      "cell_type": "code",
      "metadata": {
        "id": "pVIqX8JVl5yw"
      },
      "source": [
        "#Membuat Dictionary\n",
        "D = {\n",
        "    \"nama\": \"Andi\",\n",
        "    \"alamat\": \"Yogyakarta\",\n",
        "    \"umur\": 20\n",
        "}"
      ],
      "execution_count": null,
      "outputs": []
    },
    {
      "cell_type": "code",
      "metadata": {
        "colab": {
          "base_uri": "https://localhost:8080/"
        },
        "id": "VAzEQjy9mare",
        "outputId": "4ce9ee92-e665-4213-d335-ff884c3b92b8"
      },
      "source": [
        "# Mengkonversi Struktur data Dictionary dari key dan value-nya\n",
        "k_list = list(D.keys())\n",
        "k_tuple = tuple(D.values())\n",
        "k_set = set(D.keys())\n",
        "\n",
        "#Melihat data yang telah dikonversi\n",
        "print(k_list)\n",
        "print(k_tuple)\n",
        "print(k_set)"
      ],
      "execution_count": null,
      "outputs": [
        {
          "output_type": "stream",
          "name": "stdout",
          "text": [
            "['nama', 'alamat', 'umur']\n",
            "('Andi', 'Yogyakarta', 20)\n",
            "{'umur', 'alamat', 'nama'}\n"
          ]
        }
      ]
    },
    {
      "cell_type": "markdown",
      "metadata": {
        "id": "mSGm0eILnt4N"
      },
      "source": [
        "##Latihan"
      ]
    },
    {
      "cell_type": "code",
      "metadata": {
        "id": "tjqqmKQinvQd"
      },
      "source": [
        "#Lakukan konversi struktur data yang kalian buat pada notebook notebook\n",
        "#sebelumnya menjadi list, tuple, set dan dictionary (masing masingm satu) "
      ],
      "execution_count": null,
      "outputs": []
    },
    {
      "cell_type": "markdown",
      "metadata": {
        "id": "_3uoNcUoLEed"
      },
      "source": [
        "###Mengkonversi Tipe Data List"
      ]
    },
    {
      "cell_type": "code",
      "metadata": {
        "colab": {
          "base_uri": "https://localhost:8080/"
        },
        "id": "Bn0YgV_iIZEf",
        "outputId": "23bcbf8b-42f2-47ee-e49d-64611b14a702"
      },
      "source": [
        "#Membuat list\n",
        "D1 = [2, 3, 5, 7]\n",
        "D2 = [1, 3, 5, 7]\n",
        "\n",
        "#Mengkonversi struktur data list\n",
        "k_tuple = tuple(D1)\n",
        "k_set = set(D2)\n",
        "k_dict = dict(zip(D1, D2))\n",
        "\n",
        "#Melihat data yang telah dikonversi\n",
        "print(k_tuple)\n",
        "print(k_set)\n",
        "print(k_dict)"
      ],
      "execution_count": null,
      "outputs": [
        {
          "output_type": "stream",
          "name": "stdout",
          "text": [
            "(2, 3, 5, 7)\n",
            "{1, 3, 5, 7}\n",
            "{2: 1, 3: 3, 5: 5, 7: 7}\n"
          ]
        }
      ]
    },
    {
      "cell_type": "markdown",
      "metadata": {
        "id": "vQ9YqFRdK4Av"
      },
      "source": [
        "##Mengkonversi Tipe Data Tuple"
      ]
    },
    {
      "cell_type": "code",
      "metadata": {
        "colab": {
          "base_uri": "https://localhost:8080/"
        },
        "id": "kRJ-wJAEJAS5",
        "outputId": "18dc4aa2-310e-406e-a7a1-0eb2896b7fc5"
      },
      "source": [
        "#Membuat Tuple\n",
        "A1 = [2, 3, 5, 7]\n",
        "A2 = [1, 3, 5, 7]\n",
        "\n",
        "#Mengkonversi struktur data Tuple\n",
        "k_tuple = tuple(A1)\n",
        "k_set = set(A2)\n",
        "k_dict = dict(zip(A1, A2))\n",
        "\n",
        "#Melihat data yang telah dikonversi\n",
        "print(k_tuple)\n",
        "print(k_set)\n",
        "print(k_dict)"
      ],
      "execution_count": null,
      "outputs": [
        {
          "output_type": "stream",
          "name": "stdout",
          "text": [
            "(2, 3, 5, 7)\n",
            "{1, 3, 5, 7}\n",
            "{2: 1, 3: 3, 5: 5, 7: 7}\n"
          ]
        }
      ]
    },
    {
      "cell_type": "markdown",
      "metadata": {
        "id": "M0r70TmgKh5S"
      },
      "source": [
        "##Mengkonversi Tipe Data Set"
      ]
    },
    {
      "cell_type": "code",
      "metadata": {
        "colab": {
          "base_uri": "https://localhost:8080/"
        },
        "id": "5cmxFc82JWhJ",
        "outputId": "5c156459-febf-48a7-ed99-8be7fb129057"
      },
      "source": [
        "#Membuat Set\n",
        "D1 = [2, 3, 5, 7]\n",
        "D2 = [1, 3, 5, 7]\n",
        "\n",
        "#Mengkonversi struktur data Set\n",
        "k_tuple = tuple(D1)\n",
        "k_set = set(D2)\n",
        "k_dict = dict(zip(D1, D2))\n",
        "\n",
        "#Melihat data yang telah dikonversi\n",
        "print(k_tuple)\n",
        "print(k_set)\n",
        "print(k_dict)"
      ],
      "execution_count": null,
      "outputs": [
        {
          "output_type": "stream",
          "name": "stdout",
          "text": [
            "(2, 3, 5, 7)\n",
            "{1, 3, 5, 7}\n",
            "{2: 1, 3: 3, 5: 5, 7: 7}\n"
          ]
        }
      ]
    },
    {
      "cell_type": "markdown",
      "metadata": {
        "id": "GpKpiNp2KZjG"
      },
      "source": [
        "##Mengkonversi Tipe Data Dictionary"
      ]
    },
    {
      "cell_type": "code",
      "metadata": {
        "id": "PGvxEhnYJu_n"
      },
      "source": [
        "#Membuat Dictionary\n",
        "A = {\n",
        "    \"nama\": \"Alam\",\n",
        "    \"alamat\": \"Sumsel\",\n",
        "    \"umur\": 20\n",
        "}"
      ],
      "execution_count": null,
      "outputs": []
    },
    {
      "cell_type": "code",
      "metadata": {
        "colab": {
          "base_uri": "https://localhost:8080/"
        },
        "id": "FAEewHYWJ17b",
        "outputId": "1ae6067d-4ae7-4e14-ffa1-44246e933c19"
      },
      "source": [
        "#Mengkonversi Struktur data Dictionary dari key dan value-nya\n",
        "k_list = list(A.keys())\n",
        "k_tuple = tuple(A.values())\n",
        "k_set = set(A.keys())\n",
        "\n",
        "#Melihat data yang telah dikonversi\n",
        "print(k_list)\n",
        "print(k_tuple)\n",
        "print(k_set)"
      ],
      "execution_count": null,
      "outputs": [
        {
          "output_type": "stream",
          "name": "stdout",
          "text": [
            "['nama', 'alamat', 'umur']\n",
            "('Alam', 'Sumsel', 20)\n",
            "{'alamat', 'nama', 'umur'}\n"
          ]
        }
      ]
    }
  ]
}