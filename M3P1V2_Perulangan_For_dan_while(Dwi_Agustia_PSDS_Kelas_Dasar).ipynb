{
  "nbformat": 4,
  "nbformat_minor": 0,
  "metadata": {
    "colab": {
      "name": "M3P1V2_Perulangan_For_dan_while(Dwi Agustia_PSDS Kelas Dasar).ipynb",
      "provenance": [],
      "collapsed_sections": [],
      "authorship_tag": "ABX9TyPApYFuB01e94m/x+Gmk3EK",
      "include_colab_link": true
    },
    "kernelspec": {
      "name": "python3",
      "display_name": "Python 3"
    },
    "language_info": {
      "name": "python"
    }
  },
  "cells": [
    {
      "cell_type": "markdown",
      "metadata": {
        "id": "view-in-github",
        "colab_type": "text"
      },
      "source": [
        "<a href=\"https://colab.research.google.com/github/agustiadwi1410/PSDS-3.0/blob/main/M3P1V2_Perulangan_For_dan_while(Dwi_Agustia_PSDS_Kelas_Dasar).ipynb\" target=\"_parent\"><img src=\"https://colab.research.google.com/assets/colab-badge.svg\" alt=\"Open In Colab\"/></a>"
      ]
    },
    {
      "cell_type": "markdown",
      "metadata": {
        "id": "Urx464vb8ekT"
      },
      "source": [
        "**Nama : Dwi Agustia**\n",
        "\n",
        "**NIM : 2000015017**\n",
        "\n",
        "**PSDS Kelas Dasar**"
      ]
    },
    {
      "cell_type": "markdown",
      "metadata": {
        "id": "EjCbjASY8jyF"
      },
      "source": [
        "#Looping  / Perulangan"
      ]
    },
    {
      "cell_type": "markdown",
      "metadata": {
        "id": "GuiL1YmB83n9"
      },
      "source": [
        "Python menyediakan dua statement untuk melakukan proses perulangan yaitu for dan while. Diantara kedua statement ini, secara umum for lebih banyak digunakan dari pada while."
      ]
    },
    {
      "cell_type": "markdown",
      "metadata": {
        "id": "2i1lrDG69Q5z"
      },
      "source": [
        "#For Loop"
      ]
    },
    {
      "cell_type": "markdown",
      "metadata": {
        "id": "uzdwLzZf9Upj"
      },
      "source": [
        "Perlangan ```for``` digunakan untuk melakukan Iterasi dalam ```squence``` sepert ```list```, ```tuple```, ```string```, ```array``` atau objek yang dapat diiterasi lainnya."
      ]
    },
    {
      "cell_type": "markdown",
      "metadata": {
        "id": "q_MAilM_90C4"
      },
      "source": [
        "**For Loop Syntax**\n",
        "\n",
        "```\n",
        "for val in sequence:\n",
        "    loop body\n",
        "```"
      ]
    },
    {
      "cell_type": "markdown",
      "metadata": {
        "id": "VZl__2OZpFw_"
      },
      "source": [
        "**For Loop Flowchart**"
      ]
    },
    {
      "cell_type": "markdown",
      "metadata": {
        "id": "_N1mZq0zpG3_"
      },
      "source": [
        "![aaaa.png](data:image/png;base64,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)"
      ]
    },
    {
      "cell_type": "markdown",
      "metadata": {
        "id": "vLZ7ymP--c5B"
      },
      "source": [
        "**Example: Python for loop**"
      ]
    },
    {
      "cell_type": "code",
      "metadata": {
        "colab": {
          "base_uri": "https://localhost:8080/"
        },
        "id": "RMfYxf3O8ePH",
        "outputId": "2c56b15d-aa91-4638-9d5f-690a665fc415"
      },
      "source": [
        "# Program untuk menghitung jumlah semua angka dalam sebuah list\n",
        "L1 = [2, 4, 5, 7, 9 ]\n",
        "jumlah = 0\n",
        "\n",
        "#Iterasi di dalam List\n",
        "for i in L1:\n",
        "  jumlah = jumlah + i\n",
        "\n",
        "print(jumlah)"
      ],
      "execution_count": null,
      "outputs": [
        {
          "output_type": "stream",
          "name": "stdout",
          "text": [
            "27\n"
          ]
        }
      ]
    },
    {
      "cell_type": "markdown",
      "metadata": {
        "id": "NZ-YQGVr_POe"
      },
      "source": [
        "##The Range() function"
      ]
    },
    {
      "cell_type": "code",
      "metadata": {
        "colab": {
          "base_uri": "https://localhost:8080/"
        },
        "id": "P9wYrbVT_Ulo",
        "outputId": "7b614274-4457-4f08-b41a-423dc08522a0"
      },
      "source": [
        "# Program untuk melakukan iterasi didunia list melalui indeks\n",
        "minuman =[\"teh\", \"boba\", \"kopi\", \"susu\"]\n",
        "p = len(minuman)\n",
        "\n",
        "#Iterasi di dalam list melalui indeks\n",
        "for i in range(p):\n",
        "  print(minuman[i])"
      ],
      "execution_count": null,
      "outputs": [
        {
          "output_type": "stream",
          "name": "stdout",
          "text": [
            "teh\n",
            "boba\n",
            "kopi\n",
            "susu\n"
          ]
        }
      ]
    },
    {
      "cell_type": "markdown",
      "metadata": {
        "id": "AD6T-NV8_UJ6"
      },
      "source": [
        "#For Loop with Else"
      ]
    },
    {
      "cell_type": "code",
      "metadata": {
        "colab": {
          "base_uri": "https://localhost:8080/"
        },
        "id": "BKm37H_gAIOt",
        "outputId": "a986adc4-8b40-4bca-d305-75ba0e2ecc96"
      },
      "source": [
        "#Contoh for Loop menggunakan else\n",
        "for i in range(p):\n",
        "  print(minuman[i])\n",
        "else:\n",
        "  print(\"Elemen sudah habis\")"
      ],
      "execution_count": null,
      "outputs": [
        {
          "output_type": "stream",
          "name": "stdout",
          "text": [
            "teh\n",
            "boba\n",
            "kopi\n",
            "susu\n",
            "Elemen sudah habis\n"
          ]
        }
      ]
    },
    {
      "cell_type": "markdown",
      "metadata": {
        "id": "JV3m5URzAIrE"
      },
      "source": [
        "##Latihan 1"
      ]
    },
    {
      "cell_type": "markdown",
      "metadata": {
        "id": "gCEyy4ZkALCn"
      },
      "source": [
        "Diberikan ```list_tagihan```. Kamu diminta untuuk menghitung jumlah tagihan!. Gunakan looping ```for``` untuk menyelesaikan tugas ini!\n",
        "\n",
        "Simpan Hasilnya pada variabel ```total_tagihan!```\n",
        "\n",
        "```\n",
        "list_tagihan = [50000, 75000, -150000, 125000, 300000, -50000, 200000]\n",
        "```"
      ]
    },
    {
      "cell_type": "code",
      "metadata": {
        "colab": {
          "base_uri": "https://localhost:8080/"
        },
        "id": "MV2xtCLtR6Yd",
        "outputId": "470d6620-9809-4545-8eae-dd339864a330"
      },
      "source": [
        "# Tuliskan code kalian\n",
        "\n",
        "list_tagihan = [50000, 75000, -150000, 125000, 300000, -50000, 200000]\n",
        "total_tagihan = 0\n",
        "\n",
        "for tagihan in list_tagihan: # Untuk setiap tagihan dalam list_tagihan\n",
        "  total_tagihan += tagihan # Tambahkan taighan ke total_tagihan\n",
        "print(total_tagihan)"
      ],
      "execution_count": null,
      "outputs": [
        {
          "output_type": "stream",
          "name": "stdout",
          "text": [
            "550000\n"
          ]
        }
      ]
    },
    {
      "cell_type": "markdown",
      "metadata": {
        "id": "L_ScuXYAlKEV"
      },
      "source": [
        "#While Loop"
      ]
    },
    {
      "cell_type": "markdown",
      "metadata": {
        "id": "dYCThan6lNGd"
      },
      "source": [
        "While loop pada python digunakan untuk melakukan iterasi pada blok kode selama nilai dari ```test expression``` adalah ```true```, "
      ]
    },
    {
      "cell_type": "markdown",
      "metadata": {
        "id": "0cmRQqPsli3j"
      },
      "source": [
        "**Syntax of while Loop in python:**"
      ]
    },
    {
      "cell_type": "markdown",
      "metadata": {
        "id": "SGDsU7dNlvl6"
      },
      "source": [
        "```\n",
        "while test_expression:\n",
        "    Body of while\n",
        "```"
      ]
    },
    {
      "cell_type": "markdown",
      "metadata": {
        "id": "N-KPFPgbl4aY"
      },
      "source": [
        "**While Loop Flowchart**"
      ]
    },
    {
      "cell_type": "markdown",
      "metadata": {
        "id": "vKyQhNiql-2f"
      },
      "source": [
        "![bbbbbbb.png](data:image/png;base64,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)"
      ]
    },
    {
      "cell_type": "markdown",
      "metadata": {
        "id": "ZKDjhRc8l_sO"
      },
      "source": [
        "**Example: Python while Loop**"
      ]
    },
    {
      "cell_type": "code",
      "metadata": {
        "colab": {
          "base_uri": "https://localhost:8080/"
        },
        "id": "8ATr2zwPmFOi",
        "outputId": "652b778e-0779-47c6-bf8d-894664c4406c"
      },
      "source": [
        "# Program untuk menjumlahkan semua\n",
        "# bilangan asli hingga suku ke-n\n",
        "# jum = 1+2+3...+n\n",
        "\n",
        "n = 10\n",
        "jumlah = 0\n",
        "i = 1\n",
        "\n",
        "while i<= n:\n",
        "  jumlah = jumlah + i\n",
        "  i = i + 1\n",
        "\n",
        "print (jumlah)"
      ],
      "execution_count": null,
      "outputs": [
        {
          "output_type": "stream",
          "name": "stdout",
          "text": [
            "55\n"
          ]
        }
      ]
    },
    {
      "cell_type": "markdown",
      "metadata": {
        "id": "IzfjlkF_mkbk"
      },
      "source": [
        "#While Looop with Else"
      ]
    },
    {
      "cell_type": "markdown",
      "metadata": {
        "id": "swQ66_JNmyfI"
      },
      "source": [
        "sama dengan ```for``` loop kita juga akan dapat mengkombinasikan ```while``` loop dengan blok ```else```.\n",
        "\n",
        "Bagian ```else``` akan dieksekusi jika nilai  pada ```test expression`` pada ```while loop``` bernilai ```False```. \n",
        "\n",
        "Perhatikan Contoh berikut :\n"
      ]
    },
    {
      "cell_type": "code",
      "metadata": {
        "colab": {
          "base_uri": "https://localhost:8080/"
        },
        "id": "q_0DcWmcnQms",
        "outputId": "52fd85ab-be63-4763-b53c-c183386b905a"
      },
      "source": [
        "jum = 0\n",
        "i = 1\n",
        "while i <= n:\n",
        "  jum = jum + i\n",
        "  i = i + 1\n",
        "else:\n",
        "  print(jum) #Dieksekusi diluar looping "
      ],
      "execution_count": null,
      "outputs": [
        {
          "output_type": "stream",
          "name": "stdout",
          "text": [
            "55\n"
          ]
        }
      ]
    },
    {
      "cell_type": "markdown",
      "metadata": {
        "id": "K2-pb6wRnl-_"
      },
      "source": [
        "##Latihan 2"
      ]
    },
    {
      "cell_type": "markdown",
      "metadata": {
        "id": "cn616_HJnoa2"
      },
      "source": [
        "Diberikan list ```tagihan```. Hitunglah ```total_tagihan``` menggunakan ```while loop```.\n",
        "\n",
        "```\n",
        "tagihan = [50000, 75000, 125000, 300000, 200000]\n",
        "```"
      ]
    },
    {
      "cell_type": "code",
      "metadata": {
        "id": "b5P9wwi-n_0t",
        "colab": {
          "base_uri": "https://localhost:8080/"
        },
        "outputId": "e3cda357-e5d3-4764-9cc4-15bd964682ba"
      },
      "source": [
        "#Tuliskan kode mu\n",
        "\n",
        "#Tagihan\n",
        "tagihan = [50000, 75000, 125000, 300000, 200000]\n",
        "#Dengan menggunkan while loop\n",
        "i= 0 \n",
        "jumlah_tagihan = len(tagihan)\n",
        "total_tagihan = 0\n",
        "while i< jumlah_tagihan:\n",
        "    total_tagihan += tagihan[i]\n",
        "    i += 1\n",
        "print(total_tagihan)\n",
        "\n",
        "# Tagihan \n",
        "tagihan = [50000, 75000, 125000, 300000, 200000]\n",
        "#Tanpa menggunakan while loop\n",
        "total_tagihan = tagihan[0]+tagihan[1]+tagihan[2]+tagihan[3]+tagihan[4]\n",
        "print(total_tagihan)"
      ],
      "execution_count": null,
      "outputs": [
        {
          "output_type": "stream",
          "name": "stdout",
          "text": [
            "750000\n",
            "750000\n"
          ]
        }
      ]
    }
  ]
}